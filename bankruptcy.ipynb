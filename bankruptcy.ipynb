{
  "nbformat": 4,
  "nbformat_minor": 0,
  "metadata": {
    "colab": {
      "name": "bankruptcy.ipynb",
      "provenance": [],
      "collapsed_sections": [],
      "toc_visible": true
    },
    "kernelspec": {
      "name": "python3",
      "display_name": "Python 3"
    }
  },
  "cells": [
    {
      "cell_type": "code",
      "metadata": {
        "id": "yMZnsV5trcXD",
        "outputId": "972bfdd9-efb0-4137-8fc3-c2017e503f9f",
        "colab": {
          "base_uri": "https://localhost:8080/",
          "height": 51
        }
      },
      "source": [
        "pip install minepy"
      ],
      "execution_count": null,
      "outputs": [
        {
          "output_type": "stream",
          "text": [
            "Requirement already satisfied: minepy in /usr/local/lib/python3.6/dist-packages (1.2.5)\n",
            "Requirement already satisfied: numpy>=1.3.0 in /usr/local/lib/python3.6/dist-packages (from minepy) (1.18.5)\n"
          ],
          "name": "stdout"
        }
      ]
    },
    {
      "cell_type": "code",
      "metadata": {
        "id": "q8cmoQCjik3c"
      },
      "source": [
        "#importing packages\n",
        "import pandas as pd #processing the data\n",
        "import numpy as np #linear algebra\n",
        "import seaborn as sns \n",
        "import matplotlib.pyplot as plt\n",
        "import statsmodels.api as sm\n",
        "import time as tm\n",
        "import math\n",
        "from minepy import MINE\n",
        "from sklearn.feature_selection import SelectKBest"
      ],
      "execution_count": null,
      "outputs": []
    },
    {
      "cell_type": "markdown",
      "metadata": {
        "id": "chZ6jtut1Y47"
      },
      "source": [
        "# Distribution of features"
      ]
    },
    {
      "cell_type": "code",
      "metadata": {
        "id": "O8DWR4xp1cQD",
        "outputId": "5a483a67-047c-419f-9d91-4c7ef410ff95",
        "colab": {
          "base_uri": "https://localhost:8080/",
          "height": 432
        }
      },
      "source": [
        "#reading csv files as dataframes\n",
        "bank = pd.read_csv('bankrupcy.csv')\n",
        "plt.style.use('seaborn-white')\n",
        "plt.hist(bank)"
      ],
      "execution_count": null,
      "outputs": [
        {
          "output_type": "execute_result",
          "data": {
            "text/plain": [
              "(array([[0., 0., 0., ..., 0., 0., 0.],\n",
              "        [0., 0., 0., ..., 0., 0., 0.],\n",
              "        [0., 0., 0., ..., 0., 0., 0.],\n",
              "        ...,\n",
              "        [0., 0., 0., ..., 0., 0., 0.],\n",
              "        [0., 0., 0., ..., 0., 0., 0.],\n",
              "        [0., 0., 0., ..., 0., 0., 0.]]),\n",
              " array([-34.7 , -26.53, -18.36, -10.19,  -2.02,   6.15,  14.32,  22.49,\n",
              "         30.66,  38.83,  47.  ]),\n",
              " <a list of 453 Lists of Patches objects>)"
            ]
          },
          "metadata": {
            "tags": []
          },
          "execution_count": 6
        },
        {
          "output_type": "display_data",
          "data": {
            "image/png": "[encoded data removed]",
            "text/plain": [
              "<Figure size 432x288 with 1 Axes>"
            ]
          },
          "metadata": {
            "tags": []
          }
        }
      ]
    },
    {
      "cell_type": "code",
      "metadata": {
        "id": "CTMjQcpV6gbC",
        "outputId": "1a9db658-107e-4fd9-bb4e-95d58489e7c1",
        "colab": {
          "base_uri": "https://localhost:8080/",
          "height": 224
        }
      },
      "source": [
        "bank.head()"
      ],
      "execution_count": null,
      "outputs": [
        {
          "output_type": "execute_result",
          "data": {
            "text/html": [
              "<div>\n",
              "<style scoped>\n",
              "    .dataframe tbody tr th:only-of-type {\n",
              "        vertical-align: middle;\n",
              "    }\n",
              "\n",
              "    .dataframe tbody tr th {\n",
              "        vertical-align: top;\n",
              "    }\n",
              "\n",
              "    .dataframe thead th {\n",
              "        text-align: right;\n",
              "    }\n",
              "</style>\n",
              "<table border=\"1\" class=\"dataframe\">\n",
              "  <thead>\n",
              "    <tr style=\"text-align: right;\">\n",
              "      <th></th>\n",
              "      <th>attribute1</th>\n",
              "      <th>attribute2</th>\n",
              "      <th>attribute3</th>\n",
              "      <th>attribute4</th>\n",
              "      <th>attribute5</th>\n",
              "      <th>attribute6</th>\n",
              "      <th>attribute7</th>\n",
              "      <th>attribute8</th>\n",
              "      <th>attribute9</th>\n",
              "      <th>attribute10</th>\n",
              "      <th>attribute11</th>\n",
              "      <th>attribute12</th>\n",
              "      <th>attribute13</th>\n",
              "      <th>attribute14</th>\n",
              "      <th>attribute15</th>\n",
              "      <th>attribute16</th>\n",
              "      <th>attribute17</th>\n",
              "      <th>attribute18</th>\n",
              "      <th>attribute19</th>\n",
              "      <th>attribute20</th>\n",
              "      <th>attribute21</th>\n",
              "      <th>attribute22</th>\n",
              "      <th>attribute23</th>\n",
              "      <th>attribute24</th>\n",
              "      <th>attribute25</th>\n",
              "      <th>attribute26</th>\n",
              "      <th>attribute27</th>\n",
              "      <th>attribute28</th>\n",
              "      <th>attribute29</th>\n",
              "      <th>attribute30</th>\n",
              "      <th>attribute31</th>\n",
              "      <th>attribute32</th>\n",
              "      <th>attribute33</th>\n",
              "      <th>attribute34</th>\n",
              "      <th>attribute35</th>\n",
              "      <th>attribute36</th>\n",
              "      <th>attribute37</th>\n",
              "      <th>attribute38</th>\n",
              "      <th>attribute39</th>\n",
              "      <th>attribute40</th>\n",
              "      <th>attribute41</th>\n",
              "      <th>attribute42</th>\n",
              "      <th>attribute43</th>\n",
              "      <th>attribute44</th>\n",
              "      <th>attribute45</th>\n",
              "      <th>attribute46</th>\n",
              "      <th>attribute47</th>\n",
              "      <th>attribute48</th>\n",
              "      <th>attribute49</th>\n",
              "      <th>attribute50</th>\n",
              "      <th>attribute51</th>\n",
              "      <th>attribute52</th>\n",
              "      <th>attribute53</th>\n",
              "      <th>attribute54</th>\n",
              "      <th>attribute55</th>\n",
              "      <th>attribute56</th>\n",
              "      <th>attribute57</th>\n",
              "      <th>attribute58</th>\n",
              "      <th>attribute59</th>\n",
              "      <th>attribute60</th>\n",
              "      <th>attribute61</th>\n",
              "      <th>attribute62</th>\n",
              "      <th>attribute63</th>\n",
              "      <th>attribute64</th>\n",
              "      <th>ClassLabel</th>\n",
              "    </tr>\n",
              "  </thead>\n",
              "  <tbody>\n",
              "    <tr>\n",
              "      <th>0</th>\n",
              "      <td>-0.0315</td>\n",
              "      <td>-0.0913</td>\n",
              "      <td>-0.0403</td>\n",
              "      <td>-0.0135</td>\n",
              "      <td>0.00741</td>\n",
              "      <td>-0.0160</td>\n",
              "      <td>-0.000264</td>\n",
              "      <td>0.6410</td>\n",
              "      <td>-0.748</td>\n",
              "      <td>0.1270</td>\n",
              "      <td>-0.214</td>\n",
              "      <td>-0.0366</td>\n",
              "      <td>-0.01090</td>\n",
              "      <td>-0.000269</td>\n",
              "      <td>-0.00530</td>\n",
              "      <td>-0.243</td>\n",
              "      <td>0.5800</td>\n",
              "      <td>-0.00240</td>\n",
              "      <td>0.02930</td>\n",
              "      <td>-0.07030</td>\n",
              "      <td>-0.0164</td>\n",
              "      <td>-0.4030</td>\n",
              "      <td>0.03310</td>\n",
              "      <td>-0.00452</td>\n",
              "      <td>0.0502</td>\n",
              "      <td>-0.207</td>\n",
              "      <td>-0.00999</td>\n",
              "      <td>-0.0194</td>\n",
              "      <td>-0.6310</td>\n",
              "      <td>-0.0155</td>\n",
              "      <td>0.06620</td>\n",
              "      <td>-0.01400</td>\n",
              "      <td>-0.3690</td>\n",
              "      <td>-0.144</td>\n",
              "      <td>-0.436</td>\n",
              "      <td>-0.974000</td>\n",
              "      <td>-0.0341</td>\n",
              "      <td>0.07980</td>\n",
              "      <td>-0.0162</td>\n",
              "      <td>0.1810</td>\n",
              "      <td>-0.00721</td>\n",
              "      <td>-0.0139</td>\n",
              "      <td>-0.0193</td>\n",
              "      <td>-0.00908</td>\n",
              "      <td>0.01720</td>\n",
              "      <td>0.1470</td>\n",
              "      <td>-0.0419</td>\n",
              "      <td>-0.1480</td>\n",
              "      <td>0.00486</td>\n",
              "      <td>-0.192</td>\n",
              "      <td>-1.0300</td>\n",
              "      <td>-0.01330</td>\n",
              "      <td>-0.01640</td>\n",
              "      <td>-0.0181</td>\n",
              "      <td>-0.1110</td>\n",
              "      <td>0.01440</td>\n",
              "      <td>0.00546</td>\n",
              "      <td>-0.01410</td>\n",
              "      <td>-0.02090</td>\n",
              "      <td>0.0684</td>\n",
              "      <td>-0.2140</td>\n",
              "      <td>-0.01390</td>\n",
              "      <td>-0.1740</td>\n",
              "      <td>-0.0468</td>\n",
              "      <td>0</td>\n",
              "    </tr>\n",
              "    <tr>\n",
              "      <th>1</th>\n",
              "      <td>-0.2320</td>\n",
              "      <td>-0.0494</td>\n",
              "      <td>0.3040</td>\n",
              "      <td>-0.0810</td>\n",
              "      <td>0.00751</td>\n",
              "      <td>-0.0160</td>\n",
              "      <td>-0.035000</td>\n",
              "      <td>0.0747</td>\n",
              "      <td>0.470</td>\n",
              "      <td>0.0738</td>\n",
              "      <td>-0.836</td>\n",
              "      <td>-0.3000</td>\n",
              "      <td>-0.01310</td>\n",
              "      <td>-0.035000</td>\n",
              "      <td>-0.12000</td>\n",
              "      <td>-0.603</td>\n",
              "      <td>0.0407</td>\n",
              "      <td>-0.03660</td>\n",
              "      <td>-0.02590</td>\n",
              "      <td>-0.04790</td>\n",
              "      <td>-0.0170</td>\n",
              "      <td>-0.8730</td>\n",
              "      <td>-0.02220</td>\n",
              "      <td>0.04890</td>\n",
              "      <td>0.2740</td>\n",
              "      <td>-0.591</td>\n",
              "      <td>-0.01090</td>\n",
              "      <td>-0.0158</td>\n",
              "      <td>-1.1700</td>\n",
              "      <td>-0.0222</td>\n",
              "      <td>-0.03150</td>\n",
              "      <td>-0.02320</td>\n",
              "      <td>0.0220</td>\n",
              "      <td>1.230</td>\n",
              "      <td>-0.986</td>\n",
              "      <td>0.190000</td>\n",
              "      <td>-0.0245</td>\n",
              "      <td>0.01110</td>\n",
              "      <td>-0.0526</td>\n",
              "      <td>-0.0881</td>\n",
              "      <td>-0.00788</td>\n",
              "      <td>-0.0396</td>\n",
              "      <td>-0.0164</td>\n",
              "      <td>-0.00966</td>\n",
              "      <td>0.00237</td>\n",
              "      <td>-0.0135</td>\n",
              "      <td>-0.0350</td>\n",
              "      <td>-0.7900</td>\n",
              "      <td>-0.02520</td>\n",
              "      <td>0.187</td>\n",
              "      <td>-0.0791</td>\n",
              "      <td>-0.02250</td>\n",
              "      <td>-0.00301</td>\n",
              "      <td>-0.0145</td>\n",
              "      <td>-0.1150</td>\n",
              "      <td>0.00849</td>\n",
              "      <td>-0.00839</td>\n",
              "      <td>-0.00867</td>\n",
              "      <td>-0.02310</td>\n",
              "      <td>-0.0335</td>\n",
              "      <td>-0.2060</td>\n",
              "      <td>-0.01520</td>\n",
              "      <td>-0.0731</td>\n",
              "      <td>-0.0272</td>\n",
              "      <td>0</td>\n",
              "    </tr>\n",
              "    <tr>\n",
              "      <th>2</th>\n",
              "      <td>-0.0586</td>\n",
              "      <td>0.0651</td>\n",
              "      <td>-0.4880</td>\n",
              "      <td>-0.1890</td>\n",
              "      <td>0.00657</td>\n",
              "      <td>-0.0160</td>\n",
              "      <td>-0.004950</td>\n",
              "      <td>-0.4560</td>\n",
              "      <td>0.270</td>\n",
              "      <td>-0.0713</td>\n",
              "      <td>0.157</td>\n",
              "      <td>-0.1510</td>\n",
              "      <td>-0.01170</td>\n",
              "      <td>-0.004960</td>\n",
              "      <td>0.00948</td>\n",
              "      <td>-0.367</td>\n",
              "      <td>-0.4650</td>\n",
              "      <td>-0.00702</td>\n",
              "      <td>0.00439</td>\n",
              "      <td>0.00176</td>\n",
              "      <td>-0.0175</td>\n",
              "      <td>0.1520</td>\n",
              "      <td>0.00817</td>\n",
              "      <td>0.03060</td>\n",
              "      <td>-0.1140</td>\n",
              "      <td>-0.339</td>\n",
              "      <td>-0.00993</td>\n",
              "      <td>-0.0209</td>\n",
              "      <td>0.0962</td>\n",
              "      <td>-0.0152</td>\n",
              "      <td>0.00913</td>\n",
              "      <td>-0.01600</td>\n",
              "      <td>-0.3200</td>\n",
              "      <td>0.060</td>\n",
              "      <td>0.766</td>\n",
              "      <td>-0.000812</td>\n",
              "      <td>-0.0345</td>\n",
              "      <td>-0.02380</td>\n",
              "      <td>0.0685</td>\n",
              "      <td>-0.1480</td>\n",
              "      <td>-0.00740</td>\n",
              "      <td>0.0203</td>\n",
              "      <td>-0.0154</td>\n",
              "      <td>-0.01650</td>\n",
              "      <td>0.00391</td>\n",
              "      <td>-0.2350</td>\n",
              "      <td>-0.0129</td>\n",
              "      <td>0.0846</td>\n",
              "      <td>0.03030</td>\n",
              "      <td>-0.469</td>\n",
              "      <td>0.3940</td>\n",
              "      <td>-0.01530</td>\n",
              "      <td>-0.03020</td>\n",
              "      <td>-0.0196</td>\n",
              "      <td>-0.1230</td>\n",
              "      <td>0.01080</td>\n",
              "      <td>0.00678</td>\n",
              "      <td>-0.00944</td>\n",
              "      <td>-0.00792</td>\n",
              "      <td>-0.0435</td>\n",
              "      <td>0.0197</td>\n",
              "      <td>-0.01170</td>\n",
              "      <td>-0.2920</td>\n",
              "      <td>-0.0336</td>\n",
              "      <td>0</td>\n",
              "    </tr>\n",
              "    <tr>\n",
              "      <th>3</th>\n",
              "      <td>-0.0694</td>\n",
              "      <td>0.0446</td>\n",
              "      <td>-0.1820</td>\n",
              "      <td>-0.1400</td>\n",
              "      <td>0.00748</td>\n",
              "      <td>-0.0109</td>\n",
              "      <td>-0.005600</td>\n",
              "      <td>-0.4630</td>\n",
              "      <td>-0.287</td>\n",
              "      <td>-0.0853</td>\n",
              "      <td>-0.315</td>\n",
              "      <td>-0.1460</td>\n",
              "      <td>-0.01100</td>\n",
              "      <td>-0.005600</td>\n",
              "      <td>0.04590</td>\n",
              "      <td>-0.454</td>\n",
              "      <td>-0.4140</td>\n",
              "      <td>-0.00765</td>\n",
              "      <td>0.01570</td>\n",
              "      <td>-0.00643</td>\n",
              "      <td>-0.0161</td>\n",
              "      <td>-0.0895</td>\n",
              "      <td>0.01460</td>\n",
              "      <td>-0.03820</td>\n",
              "      <td>-0.1060</td>\n",
              "      <td>-0.443</td>\n",
              "      <td>-0.00992</td>\n",
              "      <td>-0.0196</td>\n",
              "      <td>0.2960</td>\n",
              "      <td>0.0147</td>\n",
              "      <td>0.01130</td>\n",
              "      <td>0.00659</td>\n",
              "      <td>-0.5770</td>\n",
              "      <td>-0.643</td>\n",
              "      <td>-0.100</td>\n",
              "      <td>-1.070000</td>\n",
              "      <td>-0.0345</td>\n",
              "      <td>-0.00411</td>\n",
              "      <td>0.0710</td>\n",
              "      <td>-0.1390</td>\n",
              "      <td>-0.00734</td>\n",
              "      <td>0.0558</td>\n",
              "      <td>0.0187</td>\n",
              "      <td>0.02080</td>\n",
              "      <td>0.00406</td>\n",
              "      <td>-0.0679</td>\n",
              "      <td>-0.0166</td>\n",
              "      <td>0.0795</td>\n",
              "      <td>0.05850</td>\n",
              "      <td>-0.515</td>\n",
              "      <td>-0.2680</td>\n",
              "      <td>0.00728</td>\n",
              "      <td>-0.03390</td>\n",
              "      <td>-0.0200</td>\n",
              "      <td>-0.0771</td>\n",
              "      <td>0.01070</td>\n",
              "      <td>0.00538</td>\n",
              "      <td>-0.01080</td>\n",
              "      <td>0.00138</td>\n",
              "      <td>-0.0428</td>\n",
              "      <td>-0.3510</td>\n",
              "      <td>0.00297</td>\n",
              "      <td>-0.5550</td>\n",
              "      <td>-0.0468</td>\n",
              "      <td>0</td>\n",
              "    </tr>\n",
              "    <tr>\n",
              "      <th>4</th>\n",
              "      <td>0.2360</td>\n",
              "      <td>-0.0519</td>\n",
              "      <td>0.6780</td>\n",
              "      <td>-0.0147</td>\n",
              "      <td>0.00788</td>\n",
              "      <td>-0.0160</td>\n",
              "      <td>0.057400</td>\n",
              "      <td>0.0972</td>\n",
              "      <td>0.423</td>\n",
              "      <td>0.0769</td>\n",
              "      <td>0.919</td>\n",
              "      <td>0.2090</td>\n",
              "      <td>-0.00891</td>\n",
              "      <td>0.057400</td>\n",
              "      <td>-0.02100</td>\n",
              "      <td>0.744</td>\n",
              "      <td>0.0621</td>\n",
              "      <td>0.05440</td>\n",
              "      <td>0.06730</td>\n",
              "      <td>-0.04310</td>\n",
              "      <td>-0.0160</td>\n",
              "      <td>0.8670</td>\n",
              "      <td>0.05980</td>\n",
              "      <td>0.10800</td>\n",
              "      <td>-0.1280</td>\n",
              "      <td>0.675</td>\n",
              "      <td>-0.00906</td>\n",
              "      <td>-0.0121</td>\n",
              "      <td>-0.5010</td>\n",
              "      <td>-0.0246</td>\n",
              "      <td>0.06960</td>\n",
              "      <td>-0.02190</td>\n",
              "      <td>-0.0692</td>\n",
              "      <td>0.892</td>\n",
              "      <td>1.000</td>\n",
              "      <td>0.145000</td>\n",
              "      <td>-0.0304</td>\n",
              "      <td>0.01970</td>\n",
              "      <td>0.0763</td>\n",
              "      <td>0.0179</td>\n",
              "      <td>-0.00744</td>\n",
              "      <td>0.0573</td>\n",
              "      <td>-0.0170</td>\n",
              "      <td>-0.01100</td>\n",
              "      <td>0.00655</td>\n",
              "      <td>0.0499</td>\n",
              "      <td>-0.0312</td>\n",
              "      <td>0.6150</td>\n",
              "      <td>0.06310</td>\n",
              "      <td>0.343</td>\n",
              "      <td>-0.2100</td>\n",
              "      <td>-0.02130</td>\n",
              "      <td>0.00523</td>\n",
              "      <td>-0.0107</td>\n",
              "      <td>-0.0766</td>\n",
              "      <td>0.01100</td>\n",
              "      <td>0.02530</td>\n",
              "      <td>-0.01110</td>\n",
              "      <td>-0.02250</td>\n",
              "      <td>-0.0359</td>\n",
              "      <td>-0.1820</td>\n",
              "      <td>-0.01560</td>\n",
              "      <td>-0.0278</td>\n",
              "      <td>-0.0237</td>\n",
              "      <td>0</td>\n",
              "    </tr>\n",
              "  </tbody>\n",
              "</table>\n",
              "</div>"
            ],
            "text/plain": [
              "   attribute1  attribute2  attribute3  ...  attribute63  attribute64  ClassLabel\n",
              "0     -0.0315     -0.0913     -0.0403  ...      -0.1740      -0.0468           0\n",
              "1     -0.2320     -0.0494      0.3040  ...      -0.0731      -0.0272           0\n",
              "2     -0.0586      0.0651     -0.4880  ...      -0.2920      -0.0336           0\n",
              "3     -0.0694      0.0446     -0.1820  ...      -0.5550      -0.0468           0\n",
              "4      0.2360     -0.0519      0.6780  ...      -0.0278      -0.0237           0\n",
              "\n",
              "[5 rows x 65 columns]"
            ]
          },
          "metadata": {
            "tags": []
          },
          "execution_count": 7
        }
      ]
    },
    {
      "cell_type": "code",
      "metadata": {
        "id": "yTtPZP427ppG",
        "outputId": "a72117bb-7ce5-4323-b6ae-ee38e3407e21",
        "colab": {
          "base_uri": "https://localhost:8080/",
          "height": 1000
        }
      },
      "source": [
        "bank.info()"
      ],
      "execution_count": null,
      "outputs": [
        {
          "output_type": "stream",
          "text": [
            "<class 'pandas.core.frame.DataFrame'>\n",
            "RangeIndex: 453 entries, 0 to 452\n",
            "Data columns (total 65 columns):\n",
            " #   Column       Non-Null Count  Dtype  \n",
            "---  ------       --------------  -----  \n",
            " 0   attribute1   453 non-null    float64\n",
            " 1   attribute2   453 non-null    float64\n",
            " 2   attribute3   453 non-null    float64\n",
            " 3   attribute4   453 non-null    float64\n",
            " 4   attribute5   453 non-null    float64\n",
            " 5   attribute6   453 non-null    float64\n",
            " 6   attribute7   453 non-null    float64\n",
            " 7   attribute8   453 non-null    float64\n",
            " 8   attribute9   453 non-null    float64\n",
            " 9   attribute10  453 non-null    float64\n",
            " 10  attribute11  453 non-null    float64\n",
            " 11  attribute12  453 non-null    float64\n",
            " 12  attribute13  453 non-null    float64\n",
            " 13  attribute14  453 non-null    float64\n",
            " 14  attribute15  453 non-null    float64\n",
            " 15  attribute16  453 non-null    float64\n",
            " 16  attribute17  453 non-null    float64\n",
            " 17  attribute18  453 non-null    float64\n",
            " 18  attribute19  453 non-null    float64\n",
            " 19  attribute20  453 non-null    float64\n",
            " 20  attribute21  453 non-null    float64\n",
            " 21  attribute22  453 non-null    float64\n",
            " 22  attribute23  453 non-null    float64\n",
            " 23  attribute24  453 non-null    float64\n",
            " 24  attribute25  453 non-null    float64\n",
            " 25  attribute26  453 non-null    float64\n",
            " 26  attribute27  453 non-null    float64\n",
            " 27  attribute28  453 non-null    float64\n",
            " 28  attribute29  453 non-null    float64\n",
            " 29  attribute30  453 non-null    float64\n",
            " 30  attribute31  453 non-null    float64\n",
            " 31  attribute32  453 non-null    float64\n",
            " 32  attribute33  453 non-null    float64\n",
            " 33  attribute34  453 non-null    float64\n",
            " 34  attribute35  453 non-null    float64\n",
            " 35  attribute36  453 non-null    float64\n",
            " 36  attribute37  453 non-null    float64\n",
            " 37  attribute38  453 non-null    float64\n",
            " 38  attribute39  453 non-null    float64\n",
            " 39  attribute40  453 non-null    float64\n",
            " 40  attribute41  453 non-null    float64\n",
            " 41  attribute42  453 non-null    float64\n",
            " 42  attribute43  453 non-null    float64\n",
            " 43  attribute44  453 non-null    float64\n",
            " 44  attribute45  453 non-null    float64\n",
            " 45  attribute46  453 non-null    float64\n",
            " 46  attribute47  453 non-null    float64\n",
            " 47  attribute48  453 non-null    float64\n",
            " 48  attribute49  453 non-null    float64\n",
            " 49  attribute50  453 non-null    float64\n",
            " 50  attribute51  453 non-null    float64\n",
            " 51  attribute52  453 non-null    float64\n",
            " 52  attribute53  453 non-null    float64\n",
            " 53  attribute54  453 non-null    float64\n",
            " 54  attribute55  453 non-null    float64\n",
            " 55  attribute56  453 non-null    float64\n",
            " 56  attribute57  453 non-null    float64\n",
            " 57  attribute58  453 non-null    float64\n",
            " 58  attribute59  453 non-null    float64\n",
            " 59  attribute60  453 non-null    float64\n",
            " 60  attribute61  453 non-null    float64\n",
            " 61  attribute62  453 non-null    float64\n",
            " 62  attribute63  453 non-null    float64\n",
            " 63  attribute64  453 non-null    float64\n",
            " 64  ClassLabel   453 non-null    int64  \n",
            "dtypes: float64(64), int64(1)\n",
            "memory usage: 230.2 KB\n"
          ],
          "name": "stdout"
        }
      ]
    },
    {
      "cell_type": "code",
      "metadata": {
        "id": "2DhKNG8GG_8i",
        "outputId": "e63a5bda-9f0d-4030-85a9-45583b7d37ee",
        "colab": {
          "base_uri": "https://localhost:8080/",
          "height": 281
        }
      },
      "source": [
        "bank['attribute1'].plot.hist()"
      ],
      "execution_count": null,
      "outputs": [
        {
          "output_type": "execute_result",
          "data": {
            "text/plain": [
              "<matplotlib.axes._subplots.AxesSubplot at 0x7fd78377def0>"
            ]
          },
          "metadata": {
            "tags": []
          },
          "execution_count": 9
        },
        {
          "output_type": "display_data",
          "data": {
            "image/png": "[encoded data removed]",
            "text/plain": [
              "<Figure size 432x288 with 1 Axes>"
            ]
          },
          "metadata": {
            "tags": []
          }
        }
      ]
    },
    {
      "cell_type": "code",
      "metadata": {
        "id": "cY7dkQrgHwVE",
        "outputId": "ddff1cb5-2bed-40ce-86aa-46651080756b",
        "colab": {
          "base_uri": "https://localhost:8080/",
          "height": 294
        }
      },
      "source": [
        "bank['attribute3'].plot.hist()\n",
        "plt.title('attribute3')"
      ],
      "execution_count": null,
      "outputs": [
        {
          "output_type": "execute_result",
          "data": {
            "text/plain": [
              "Text(0.5, 1.0, 'attribute3')"
            ]
          },
          "metadata": {
            "tags": []
          },
          "execution_count": 10
        },
        {
          "output_type": "display_data",
          "data": {
            "image/png": "[encoded data removed]",
            "text/plain": [
              "<Figure size 432x288 with 1 Axes>"
            ]
          },
          "metadata": {
            "tags": []
          }
        }
      ]
    },
    {
      "cell_type": "code",
      "metadata": {
        "id": "oaKrHMmWI07T",
        "outputId": "ac5a259e-44fe-4425-b6f9-fd5173eae0e0",
        "colab": {
          "base_uri": "https://localhost:8080/",
          "height": 279
        }
      },
      "source": [
        "bank['attribute10'].plot.hist()"
      ],
      "execution_count": null,
      "outputs": [
        {
          "output_type": "execute_result",
          "data": {
            "text/plain": [
              "<matplotlib.axes._subplots.AxesSubplot at 0x7fd780bcfcc0>"
            ]
          },
          "metadata": {
            "tags": []
          },
          "execution_count": 11
        },
        {
          "output_type": "display_data",
          "data": {
            "image/png": "[encoded data removed]",
            "text/plain": [
              "<Figure size 432x288 with 1 Axes>"
            ]
          },
          "metadata": {
            "tags": []
          }
        }
      ]
    },
    {
      "cell_type": "code",
      "metadata": {
        "id": "6H4Vf5A0ImwF",
        "outputId": "88839c27-46ad-4d7b-9258-8a6247aa8458",
        "colab": {
          "base_uri": "https://localhost:8080/",
          "height": 279
        }
      },
      "source": [
        "bank['attribute15'].plot.hist()"
      ],
      "execution_count": null,
      "outputs": [
        {
          "output_type": "execute_result",
          "data": {
            "text/plain": [
              "<matplotlib.axes._subplots.AxesSubplot at 0x7fd7809f14a8>"
            ]
          },
          "metadata": {
            "tags": []
          },
          "execution_count": 12
        },
        {
          "output_type": "display_data",
          "data": {
            "image/png": "[encoded data removed]",
            "text/plain": [
              "<Figure size 432x288 with 1 Axes>"
            ]
          },
          "metadata": {
            "tags": []
          }
        }
      ]
    },
    {
      "cell_type": "code",
      "metadata": {
        "id": "Px6Z2wuHIo2a",
        "outputId": "cb3e7bd7-561f-457a-a3c7-868eb9dce7d2",
        "colab": {
          "base_uri": "https://localhost:8080/",
          "height": 294
        }
      },
      "source": [
        "bank['attribute24'].plot.hist()\n",
        "plt.title('attribute24')"
      ],
      "execution_count": null,
      "outputs": [
        {
          "output_type": "execute_result",
          "data": {
            "text/plain": [
              "Text(0.5, 1.0, 'attribute24')"
            ]
          },
          "metadata": {
            "tags": []
          },
          "execution_count": 14
        },
        {
          "output_type": "display_data",
          "data": {
            "image/png": "[encoded data removed]",
            "text/plain": [
              "<Figure size 432x288 with 1 Axes>"
            ]
          },
          "metadata": {
            "tags": []
          }
        }
      ]
    },
    {
      "cell_type": "code",
      "metadata": {
        "id": "V-UEq5MGIG1i",
        "outputId": "51aa1b3c-80d2-4fd5-ae02-1b9c58699858",
        "colab": {
          "base_uri": "https://localhost:8080/",
          "height": 294
        }
      },
      "source": [
        "bank['attribute30'].plot.hist()\n",
        "plt.title('attribute30')"
      ],
      "execution_count": null,
      "outputs": [
        {
          "output_type": "execute_result",
          "data": {
            "text/plain": [
              "Text(0.5, 1.0, 'attribute30')"
            ]
          },
          "metadata": {
            "tags": []
          },
          "execution_count": 15
        },
        {
          "output_type": "display_data",
          "data": {
            "image/png": "[encoded data removed]",
            "text/plain": [
              "<Figure size 432x288 with 1 Axes>"
            ]
          },
          "metadata": {
            "tags": []
          }
        }
      ]
    },
    {
      "cell_type": "code",
      "metadata": {
        "id": "Z5UJW8jFIsQ1",
        "outputId": "99db8832-18ad-4735-a4ab-d1541a61ba8f",
        "colab": {
          "base_uri": "https://localhost:8080/",
          "height": 279
        }
      },
      "source": [
        "bank['attribute35'].plot.hist()"
      ],
      "execution_count": null,
      "outputs": [
        {
          "output_type": "execute_result",
          "data": {
            "text/plain": [
              "<matplotlib.axes._subplots.AxesSubplot at 0x7fd77fe876a0>"
            ]
          },
          "metadata": {
            "tags": []
          },
          "execution_count": 16
        },
        {
          "output_type": "display_data",
          "data": {
            "image/png": "[encoded data removed]",
            "text/plain": [
              "<Figure size 432x288 with 1 Axes>"
            ]
          },
          "metadata": {
            "tags": []
          }
        }
      ]
    },
    {
      "cell_type": "code",
      "metadata": {
        "id": "v-dMlLrqIKuA",
        "outputId": "fc17fe25-4908-4621-db94-0bd749bd1e5b",
        "colab": {
          "base_uri": "https://localhost:8080/",
          "height": 279
        }
      },
      "source": [
        "bank['attribute40'].plot.hist()"
      ],
      "execution_count": null,
      "outputs": [
        {
          "output_type": "execute_result",
          "data": {
            "text/plain": [
              "<matplotlib.axes._subplots.AxesSubplot at 0x7fd77fe877b8>"
            ]
          },
          "metadata": {
            "tags": []
          },
          "execution_count": 17
        },
        {
          "output_type": "display_data",
          "data": {
            "image/png": "[encoded data removed]",
            "text/plain": [
              "<Figure size 432x288 with 1 Axes>"
            ]
          },
          "metadata": {
            "tags": []
          }
        }
      ]
    },
    {
      "cell_type": "code",
      "metadata": {
        "id": "W-Aff56bIuQm",
        "outputId": "15d9e9ce-5fdc-459e-b9c2-41fd460cdf70",
        "colab": {
          "base_uri": "https://localhost:8080/",
          "height": 279
        }
      },
      "source": [
        "bank['attribute45'].plot.hist()"
      ],
      "execution_count": null,
      "outputs": [
        {
          "output_type": "execute_result",
          "data": {
            "text/plain": [
              "<matplotlib.axes._subplots.AxesSubplot at 0x7fd77fdf4470>"
            ]
          },
          "metadata": {
            "tags": []
          },
          "execution_count": 18
        },
        {
          "output_type": "display_data",
          "data": {
            "image/png": "[encoded data removed]",
            "text/plain": [
              "<Figure size 432x288 with 1 Axes>"
            ]
          },
          "metadata": {
            "tags": []
          }
        }
      ]
    },
    {
      "cell_type": "code",
      "metadata": {
        "id": "QHwQ86zaIMmX",
        "outputId": "5bb2de78-48e5-40af-e505-8a39c49bd42a",
        "colab": {
          "base_uri": "https://localhost:8080/",
          "height": 294
        }
      },
      "source": [
        "bank['attribute51'].plot.hist()\n",
        "plt.title('attribute51')"
      ],
      "execution_count": null,
      "outputs": [
        {
          "output_type": "execute_result",
          "data": {
            "text/plain": [
              "Text(0.5, 1.0, 'attribute51')"
            ]
          },
          "metadata": {
            "tags": []
          },
          "execution_count": 19
        },
        {
          "output_type": "display_data",
          "data": {
            "image/png": "[encoded data removed]",
            "text/plain": [
              "<Figure size 432x288 with 1 Axes>"
            ]
          },
          "metadata": {
            "tags": []
          }
        }
      ]
    },
    {
      "cell_type": "code",
      "metadata": {
        "id": "8MYwT14tIwLT",
        "outputId": "fadf54d1-ec78-4300-9c26-044420e13359",
        "colab": {
          "base_uri": "https://localhost:8080/",
          "height": 279
        }
      },
      "source": [
        "bank['attribute55'].plot.hist()"
      ],
      "execution_count": null,
      "outputs": [
        {
          "output_type": "execute_result",
          "data": {
            "text/plain": [
              "<matplotlib.axes._subplots.AxesSubplot at 0x7fd77fcc2978>"
            ]
          },
          "metadata": {
            "tags": []
          },
          "execution_count": 20
        },
        {
          "output_type": "display_data",
          "data": {
            "image/png": "[encoded data removed]",
            "text/plain": [
              "<Figure size 432x288 with 1 Axes>"
            ]
          },
          "metadata": {
            "tags": []
          }
        }
      ]
    },
    {
      "cell_type": "code",
      "metadata": {
        "id": "KeVKi6lDIOeu",
        "outputId": "86414ad4-5ebd-48e2-ec60-7d0dd70f3b02",
        "colab": {
          "base_uri": "https://localhost:8080/",
          "height": 279
        }
      },
      "source": [
        "bank['attribute60'].plot.hist()"
      ],
      "execution_count": null,
      "outputs": [
        {
          "output_type": "execute_result",
          "data": {
            "text/plain": [
              "<matplotlib.axes._subplots.AxesSubplot at 0x7fd77fca3710>"
            ]
          },
          "metadata": {
            "tags": []
          },
          "execution_count": 21
        },
        {
          "output_type": "display_data",
          "data": {
            "image/png": "[encoded data removed]",
            "text/plain": [
              "<Figure size 432x288 with 1 Axes>"
            ]
          },
          "metadata": {
            "tags": []
          }
        }
      ]
    },
    {
      "cell_type": "code",
      "metadata": {
        "id": "o-a4kWAVIUTj",
        "outputId": "558ef7ea-6f6b-4cb7-ec29-1f19c876cabd",
        "colab": {
          "base_uri": "https://localhost:8080/",
          "height": 279
        }
      },
      "source": [
        "bank['attribute64'].plot.hist()"
      ],
      "execution_count": null,
      "outputs": [
        {
          "output_type": "execute_result",
          "data": {
            "text/plain": [
              "<matplotlib.axes._subplots.AxesSubplot at 0x7fd77fc24278>"
            ]
          },
          "metadata": {
            "tags": []
          },
          "execution_count": 22
        },
        {
          "output_type": "display_data",
          "data": {
            "image/png": "[encoded data removed]",
            "text/plain": [
              "<Figure size 432x288 with 1 Axes>"
            ]
          },
          "metadata": {
            "tags": []
          }
        }
      ]
    },
    {
      "cell_type": "code",
      "metadata": {
        "id": "07O7lcOCJJk2",
        "outputId": "ea8531da-29dd-4119-e6b9-100bdfbae7be",
        "colab": {
          "base_uri": "https://localhost:8080/",
          "height": 293
        }
      },
      "source": [
        "sns.countplot(x='ClassLabel',data=bank)"
      ],
      "execution_count": null,
      "outputs": [
        {
          "output_type": "execute_result",
          "data": {
            "text/plain": [
              "<matplotlib.axes._subplots.AxesSubplot at 0x7fd77fb9f668>"
            ]
          },
          "metadata": {
            "tags": []
          },
          "execution_count": 23
        },
        {
          "output_type": "display_data",
          "data": {
            "image/png": "[encoded data removed]",
            "text/plain": [
              "<Figure size 432x288 with 1 Axes>"
            ]
          },
          "metadata": {
            "tags": []
          }
        }
      ]
    },
    {
      "cell_type": "code",
      "metadata": {
        "id": "SGeqNihB3szW",
        "outputId": "9751c81f-3edc-447c-9976-ae017ead2e38",
        "colab": {
          "base_uri": "https://localhost:8080/",
          "height": 493
        }
      },
      "source": [
        "\n",
        "#reading csv files as dataframes\n",
        "bank = pd.read_csv('bankrupcy.csv')\n",
        "#segregate features and class labels\n",
        "X = bank.iloc[:,0:-1]\n",
        "Y = pd.DataFrame(bank['ClassLabel'])\n",
        "olddata=X\n",
        "tol_var=1\n",
        "#olddata = pd.read_csv('bankrupcy.csv',header=0) # 读取数据\n",
        "for i in range(0):\n",
        "    X=olddata.drop([449])\n",
        "    olddata.index=range(len(olddata))\n",
        "\n",
        "print(olddata)\n",
        "\n",
        "def varselect(olddata,tol_var):\n",
        "    remain_columns=[]\n",
        "    var=olddata.var()\n",
        "    for i in range (0,olddata.shape[1]):\n",
        "        if var.array[i]<tol_var:\n",
        "            remain_columns.append(olddata.columns[i])\n",
        "    newdata=olddata.drop(columns=remain_columns)\n",
        "    print(newdata)\n",
        "    return newdata\n",
        "\n",
        "\n",
        "bank=varselect(olddata,tol_var)"
      ],
      "execution_count": null,
      "outputs": [
        {
          "output_type": "stream",
          "text": [
            "     attribute1  attribute2  attribute3  ...  attribute62  attribute63  attribute64\n",
            "0      -0.03150     -0.0913     -0.0403  ...     -0.01390      -0.1740     -0.04680\n",
            "1      -0.23200     -0.0494      0.3040  ...     -0.01520      -0.0731     -0.02720\n",
            "2      -0.05860      0.0651     -0.4880  ...     -0.01170      -0.2920     -0.03360\n",
            "3      -0.06940      0.0446     -0.1820  ...      0.00297      -0.5550     -0.04680\n",
            "4       0.23600     -0.0519      0.6780  ...     -0.01560      -0.0278     -0.02370\n",
            "..          ...         ...         ...  ...          ...          ...          ...\n",
            "448    -0.06610      0.0447     -0.5630  ...     -0.00584      -0.4540     -0.03860\n",
            "449    -0.39700      0.4980     -5.9900  ...      0.05360      -0.6810     -0.03680\n",
            "450     0.00415      0.0145     -0.4380  ...     -0.01520      -0.0674     -0.03130\n",
            "451     0.13600     -0.0656      0.4620  ...     -0.01990       1.2200      0.00575\n",
            "452    -0.14000      0.1190     -1.2900  ...      0.00617      -0.5760     -0.04060\n",
            "\n",
            "[453 rows x 64 columns]\n",
            "     attribute3  attribute6  attribute20  ...  attribute24  attribute30  attribute51\n",
            "0       -0.0403     -0.0160     -0.07030  ...     -0.00452     -0.01550      -1.0300\n",
            "1        0.3040     -0.0160     -0.04790  ...      0.04890     -0.02220      -0.0791\n",
            "2       -0.4880     -0.0160      0.00176  ...      0.03060     -0.01520       0.3940\n",
            "3       -0.1820     -0.0109     -0.00643  ...     -0.03820      0.01470      -0.2680\n",
            "4        0.6780     -0.0160     -0.04310  ...      0.10800     -0.02460      -0.2100\n",
            "..          ...         ...          ...  ...          ...          ...          ...\n",
            "448     -0.5630     -0.0160      0.03100  ...     -0.04450     -0.01190       0.5410\n",
            "449     -5.9900     -0.3140     -0.03960  ...     -0.44700      0.03440       6.7600\n",
            "450     -0.4380     -0.0160     -0.06930  ...     -0.03180     -0.02030       0.0935\n",
            "451      0.4620     -0.0160     -0.05540  ...      0.05180     -0.02800      -0.3080\n",
            "452     -1.2900     -0.0160     -0.01350  ...     -0.04360     -0.00414       1.3800\n",
            "\n",
            "[453 rows x 7 columns]\n"
          ],
          "name": "stdout"
        }
      ]
    },
    {
      "cell_type": "code",
      "metadata": {
        "id": "T3LKN6LFmE5H",
        "outputId": "5ee55f0b-417d-416c-8856-0e033a6c9a2c",
        "colab": {
          "base_uri": "https://localhost:8080/",
          "height": 136
        }
      },
      "source": [
        "##plotting correlation map\n",
        "#pd.set_option('display.max_columns', None)\n",
        "#corr = X.corr()\n",
        "#print(corr)\n",
        "#print(type(corr))\n",
        "#sm.graphics.plot_corr(corr, xnames=list(corr.columns))\n",
        "#plt.show()\n",
        "\n",
        "#converting pandas dataframe to numpy array\n",
        "X = X.to_numpy()\n",
        "Y = Y.to_numpy()\n",
        "m = X.shape[0] # # of observations\n",
        "#adding dummy feature '1'\n",
        "X = np.concatenate((np.ones((m,1)),X),axis=1)\n",
        "n = X.shape[1] # # of features\n",
        "print(X)"
      ],
      "execution_count": null,
      "outputs": [
        {
          "output_type": "stream",
          "text": [
            "[[ 1.      -0.0315  -0.0913  ... -0.0139  -0.174   -0.0468 ]\n",
            " [ 1.      -0.232   -0.0494  ... -0.0152  -0.0731  -0.0272 ]\n",
            " [ 1.      -0.0586   0.0651  ... -0.0117  -0.292   -0.0336 ]\n",
            " ...\n",
            " [ 1.       0.00415  0.0145  ... -0.0152  -0.0674  -0.0313 ]\n",
            " [ 1.       0.136   -0.0656  ... -0.0199   1.22     0.00575]\n",
            " [ 1.      -0.14     0.119   ...  0.00617 -0.576   -0.0406 ]]\n"
          ],
          "name": "stdout"
        }
      ]
    },
    {
      "cell_type": "code",
      "metadata": {
        "id": "WONU1IC1nMk8"
      },
      "source": [
        "#Normalizing features, leaving dummy features unnomalized\n",
        "for i in range(n-1):\n",
        "  column = X[:,i+1]\n",
        "  if max(column) - min(column) == 1: #leave categorial features unnormalized\n",
        "    pass\n",
        "  else:\n",
        "    X[:,i+1] = (X[:,i+1] - min(column))/(max(column) - min(column)) #(X-X_min)/(X_max-X_min)\n",
        "\n",
        "#print(X)"
      ],
      "execution_count": null,
      "outputs": []
    },
    {
      "cell_type": "code",
      "metadata": {
        "id": "ljdDzwv15uax",
        "outputId": "ad801ca8-1203-408a-f7c5-200a49f07a8f",
        "colab": {
          "base_uri": "https://localhost:8080/",
          "height": 85
        }
      },
      "source": [
        "class bank_model():\n",
        "  def __init__(self, X, Y):\n",
        "    #defining variables\n",
        "    self.X=X\n",
        "    self.Y=Y\n",
        "    self.n = X.shape[1]\n",
        "    self.m = Y.shape[0]\n",
        "    self.L = []\n",
        "    self.w_mean = []\n",
        "    self.stop_cri = 0\n",
        "    #self.w = np.zeros((self.n,1))\n",
        "    self.w = np.random.randn(self.n,1) * 0.01\n",
        "\n",
        "  def sig(self, z):\n",
        "    #defining sigmoid function, taking array as input\n",
        "    s = 1 / (1 + np.exp(-z))\n",
        "    return s\n",
        "    \n",
        "  def fit(self, a, max_iter, e_w1, e_w2, e_L, stop):\n",
        "    #this module fits the training data according to logistic regression\n",
        "    #a is learning rate, max_iter defines the maximum # ofiteration of gradient descent\n",
        "    #e_w1, e_w2 and e_mean defines the threshold of mean weight, maximum weight or loss function that gradient descent is supposed to stop once the threshold is reached\n",
        "    #stop indicated the stopping criterion: mean of weight fluctuation, max of weight fluctuation, change of loss function compared to the last 10\n",
        "    L = 1000\n",
        "    t1 = tm.time()\n",
        "    for i in range(max_iter):\n",
        "      #taking sigmoid of w'X\n",
        "      A = self.sig(np.dot(self.X,self.w))\n",
        "      L_old = L\n",
        "      \n",
        "      #loss function\n",
        "      L = -np.sum(self.Y*np.log(self.sig(A))+(1-self.Y)*np.log(1-self.sig(A)))\n",
        "      self.L.append(L)\n",
        "      self.w_mean.append(np.mean(self.w))\n",
        "      w_old = self.w\n",
        "\n",
        "      #gradient descent\n",
        "      self.w = self.w + a*np.dot(np.transpose(self.X),self.Y-A)\n",
        "\n",
        "      #defining different stopping criteria\n",
        "      if stop=='w_mean' and abs(np.mean(self.w)-np.mean(self.w_mean[-22:-2]))<=e_w1:\n",
        "        self.stop_cri=1\n",
        "        break\n",
        "      elif stop=='w_max' and np.max(abs(self.w-w_old))<=e_w2:\n",
        "        self.stop_cri=2\n",
        "        break\n",
        "      elif stop=='L_hist' and abs(L-np.mean(self.L[-22:-2]))<=e_L:\n",
        "        \n",
        "        self.stop_cri=3\n",
        "        break\n",
        "    t2 = tm.time()\n",
        "    dt = t2-t1\n",
        "    end_iter = i\n",
        "    return self.w_mean, self.w, self.L, L, dt, end_iter, self.stop_cri\n",
        "\n",
        "  def predict(self, w, X):\n",
        "    #this module predicts the outcome (1/0) according to the input observation\n",
        "    #first take the sigmoid of w'T\n",
        "    result = self.sig(np.dot(X,w))\n",
        "    #taking 0.5 as threshold\n",
        "    if result >0.5:\n",
        "      prediction = 1\n",
        "    else:\n",
        "      prediction = 0\n",
        "    #print(result)\n",
        "    return prediction\n",
        "\n",
        "\n",
        "lg = bank_model(X,Y)\n",
        "pred = []\n",
        "w_mean, w, L_hist, L, dt, iter, stop_cri = lg.fit(0.03,5000,0.3,0.06,1,'L_hist')\n",
        "#print(stop_cri, L, dt, iter)\n"
      ],
      "execution_count": null,
      "outputs": [
        {
          "output_type": "stream",
          "text": [
            "/usr/local/lib/python3.6/dist-packages/numpy/core/fromnumeric.py:3335: RuntimeWarning: Mean of empty slice.\n",
            "  out=out, **kwargs)\n",
            "/usr/local/lib/python3.6/dist-packages/numpy/core/_methods.py:161: RuntimeWarning: invalid value encountered in double_scalars\n",
            "  ret = ret.dtype.type(ret / rcount)\n"
          ],
          "name": "stderr"
        }
      ]
    },
    {
      "cell_type": "code",
      "metadata": {
        "id": "4X3hLpRRpWXk"
      },
      "source": [
        "def Accu_eval_(X,Y,lg,w):\n",
        "  #defining evaluation metrics\n",
        "  pred = []\n",
        "\n",
        "\n",
        "  for i in range(X.shape[0]):\n",
        "    #going through input examples one by one to predict the class\n",
        "    p = lg.predict(w,X[i,:])\n",
        "    #print(X[i,:])\n",
        "    pred.append(p)\n",
        "\n",
        "  Y = np.transpose(Y)\n",
        "  Y_list = Y[0]\n",
        "  #print(Y_list[0])\n",
        "  pred = np.array(pred)\n",
        "  accuracy = 100-np.mean(np.abs(Y_list-pred))*100 #accuracy in %\n",
        "  #print(Y_list)\n",
        "  #print(pred)\n",
        "\n",
        "\n",
        "  return accuracy"
      ],
      "execution_count": null,
      "outputs": []
    },
    {
      "cell_type": "code",
      "metadata": {
        "id": "ceeq6wbXnjje",
        "outputId": "510dfe7f-e39c-46e0-8c8d-a1eab717a7d2",
        "colab": {
          "base_uri": "https://localhost:8080/",
          "height": 772
        }
      },
      "source": [
        "lg_ = bank_model(X,Y)\n",
        "pred = []\n",
        "w_mean, w, L_hist, L, dt, iter, stop_cri = lg_.fit(0.1,20000,0.05,0.06,1,'w_mean')\n",
        "print(stop_cri, L, dt, iter)\n",
        "\n",
        "avg = 200\n",
        "w_mean1 = [None]*(math.floor(len(w_mean)/avg)+1)\n",
        "for i in range(math.floor(len(w_mean)/avg)):\n",
        "  w_ = np.mean(w_mean[avg*i:avg*(i+1)])\n",
        "  w_mean1[i]=w_\n",
        "if len(w_mean)%avg is not 0:\n",
        "  w_mean1.append(np.mean(w_mean[-(len(w_mean)%avg):-1]))\n",
        "\n",
        "\n",
        "L_hist1 = [None]*(math.floor(len(w_mean)/avg)+1)\n",
        "for i in range(math.floor(len(L_hist)/avg)):\n",
        "  h_ = np.mean(L_hist[avg*i:avg*(i+1)])\n",
        "  L_hist1[i]=h_\n",
        "if len(L_hist)%avg is not 0:\n",
        "  L_hist1.append(np.mean(L_hist[-(len(L_hist)%avg):-1]))\n",
        "\n",
        "print(w_mean1)\n",
        "plt.plot(np.linspace(0,avg*len(w_mean1),len(w_mean1)),w_mean1)\n",
        "plt.xlabel('iteration')\n",
        "plt.ylabel('mean w')\n",
        "plt.title('average of weight vs. iteration')\n",
        "plt.figure()\n",
        "plt.plot(np.linspace(0,avg*len(L_hist1),len(L_hist1)),L_hist1)\n",
        "plt.xlabel('iteration')\n",
        "plt.ylabel('Loss')\n",
        "plt.title('loss vs. iteration')\n",
        "\n",
        "accuracy = Accu_eval_(X,Y,lg_,w)\n",
        "print(accuracy)"
      ],
      "execution_count": null,
      "outputs": [
        {
          "output_type": "stream",
          "text": [
            "/usr/local/lib/python3.6/dist-packages/numpy/core/fromnumeric.py:3335: RuntimeWarning: Mean of empty slice.\n",
            "  out=out, **kwargs)\n",
            "/usr/local/lib/python3.6/dist-packages/numpy/core/_methods.py:161: RuntimeWarning: invalid value encountered in double_scalars\n",
            "  ret = ret.dtype.type(ret / rcount)\n",
            "/usr/local/lib/python3.6/dist-packages/ipykernel_launcher.py:16: RuntimeWarning: overflow encountered in exp\n",
            "  app.launch_new_instance()\n"
          ],
          "name": "stderr"
        },
        {
          "output_type": "stream",
          "text": [
            "0 289.29503143614244 5.0285327434539795 19999\n",
            "[-4.090629236478838, -3.604393961822461, -2.3642072304006625, -1.4760362378007457, -0.375636099000981, 0.8472508992698075, 2.078037581211048, 2.99199894095732, 3.4774122413137643, 3.806759597302551, 3.556477912594172, 3.2331803534306993, 3.0163674437079493, 2.8257752654989843, 2.633430568124612, 2.422746689924315, 2.138842230944214, 1.8006567833887133, 1.4346915389012944, 1.1087745589839073, 0.8276113576112064, 0.5446159224031113, 0.2659571491315358, -0.06475027540388303, -0.39275602201307797, -0.6902322949825426, -0.8984519966295901, -1.1101453144478406, -1.339195631384121, -1.5740454084775695, -1.76710261128366, -1.9710007425549525, -2.202308392565526, -2.4345326090147035, -2.6324058320579953, -2.765267054488017, -2.8816034937378756, -2.95250642849256, -3.002274621602811, -3.067583421951722, -3.147407467978926, -3.2394824259658854, -3.3494563422150567, -3.4779526474642704, -3.599978790508122, -3.7230239690289064, -3.805711747504075, -3.7863603325733504, -3.788485841697035, -3.774456231948018, -3.8836644519109393, -3.847223708673252, -3.90880046451924, -3.9460895291958513, -3.8973471496503964, -3.878052541125231, -3.8125220991464848, -3.769701240421017, -3.7288962627087905, -3.6708536728803383, -3.629563154573467, -3.574313537829637, -3.537711686259625, -3.4971677962642214, -3.4498319582304124, -3.4583234436288506, -3.453578719051981, -3.465404415197966, -3.484161738947338, -3.489352345105532, -3.465419200921951, -3.4405867190812285, -3.400645278335069, -3.3674097065799025, -3.3474371133362006, -3.301634310089863, -3.263889583526452, -3.228676554314089, -3.1920170307226603, -3.1601645914700236, -3.12985061868069, -3.094870757573509, -3.057000802483495, -3.0424664516595303, -3.0437811808676507, -3.0380684702973992, -3.0394312991554124, -3.0249416940155047, -3.0183335565918896, -2.991059612164944, -2.9590816010891747, -2.9216492401937977, -2.9091636505190235, -2.9318671765168256, -2.938672811409035, -2.889675232398514, -2.924189787968511, -2.95110523270154, -2.9506795131178785, -2.9811432282287536, None]\n",
            "75.93818984547461\n"
          ],
          "name": "stdout"
        },
        {
          "output_type": "stream",
          "text": [
            "/usr/local/lib/python3.6/dist-packages/ipykernel_launcher.py:16: RuntimeWarning: overflow encountered in exp\n",
            "  app.launch_new_instance()\n"
          ],
          "name": "stderr"
        },
        {
          "output_type": "display_data",
          "data": {
            "image/png": "[encoded data removed]",
            "text/plain": [
              "<Figure size 432x288 with 1 Axes>"
            ]
          },
          "metadata": {
            "tags": []
          }
        },
        {
          "output_type": "display_data",
          "data": {
            "image/png": "[encoded data removed]",
            "text/plain": [
              "<Figure size 432x288 with 1 Axes>"
            ]
          },
          "metadata": {
            "tags": []
          }
        }
      ]
    },
    {
      "cell_type": "code",
      "metadata": {
        "id": "FvXvDWsxmk-K"
      },
      "source": [
        "class corss_validation():\n",
        "    def __init__(self,olddata,k_fold,model,Accu_eval_):\n",
        "        self.olddata=olddata\n",
        "        self.k_fold=k_fold\n",
        "        self.model=model\n",
        "        self.traindata=olddata\n",
        "        self.validata=olddata\n",
        "        self.Accu_eval_=Accu_eval_\n",
        "        self.acc=[]\n",
        "        self.acc_train=[]\n",
        "\n",
        "    def cut_data(self,no_cut):#no_cut means No. cut. Here generate traindata and validata\n",
        "        self.traindata=self.olddata\n",
        "        num_cut=int(self.olddata.shape[0]/self.k_fold)\n",
        "        for i in range(num_cut):\n",
        "            self.traindata=self.traindata.drop([num_cut*no_cut])\n",
        "            self.traindata.index=range(len(self.traindata))\n",
        "        self.validata=self.olddata.iloc[num_cut*no_cut:num_cut*(no_cut+1)]\n",
        "        self.validata.index=range(len(self.validata))\n",
        "\n",
        "    def train_validate(self):\n",
        "        for i in range (self.k_fold):\n",
        "            self.cut_data(i)\n",
        "            X = self.traindata.iloc[:,0:-1]\n",
        "            Y = pd.DataFrame(self.traindata['ClassLabel'])\n",
        "            X = X.to_numpy()\n",
        "            Y = Y.to_numpy()\n",
        "            lg = self.model(X,Y)\n",
        "            w_mean, w, L_hist, L, dt, iter, stop_cri = lg.fit(0.03,5000,0.03,0.06,1,'w_mean')\n",
        "            accuracy= self.Accu_eval_(X,Y,lg,w)\n",
        "            self.acc_train.append(accuracy)\n",
        "        #print(np.mean(self.acc))\n",
        "        mean_acc_train=np.mean(self.acc_train)\n",
        "        return mean_acc_train\n",
        "    \n",
        "    \n",
        "\n",
        "    def validate(self):\n",
        "        for i in range (self.k_fold):\n",
        "            self.cut_data(i)\n",
        "            X = self.traindata.iloc[:,0:-1]\n",
        "            Y = pd.DataFrame(self.traindata['ClassLabel'])\n",
        "            X = X.to_numpy()\n",
        "            Y = Y.to_numpy()\n",
        "            lg = self.model(X,Y)\n",
        "            w_mean, w, L_hist, L, dt, iter, stop_cri = lg.fit(0.03,5000,0.03,0.06,1,'w_mean')\n",
        "            X = self.validata.iloc[:,0:-1]\n",
        "            Y = pd.DataFrame(self.validata['ClassLabel'])\n",
        "            X = X.to_numpy()\n",
        "            Y = Y.to_numpy()\n",
        "            accuracy= self.Accu_eval_(X,Y,lg,w)\n",
        "            self.acc.append(accuracy)\n",
        "        #print(np.mean(self.acc))\n",
        "        mean_acc=np.mean(self.acc)\n",
        "        return mean_acc\n"
      ],
      "execution_count": null,
      "outputs": []
    },
    {
      "cell_type": "code",
      "metadata": {
        "id": "NZRMprwwmwIO"
      },
      "source": [
        "def varselect(olddata,tol_var):\n",
        "    remain_columns=[]\n",
        "    var=olddata.var()\n",
        "    for i in range (0,olddata.shape[1]-1):\n",
        "        if var.array[i]<tol_var:\n",
        "            remain_columns.append(olddata.columns[i])\n",
        "    newdata=olddata.drop(columns=remain_columns)\n",
        "    return newdata\n"
      ],
      "execution_count": null,
      "outputs": []
    },
    {
      "cell_type": "code",
      "metadata": {
        "id": "TLStsTSiriYt"
      },
      "source": [
        "def mic(x, y):\n",
        "    m = MINE()\n",
        "    m.compute_score(x, y)\n",
        "    return (m.mic(), 0.5)\n",
        "\n",
        "def MICselection(olddata,k):\n",
        "  XX = olddata.iloc[:,0:-1]\n",
        "  YY = pd.DataFrame(olddata['ClassLabel'])\n",
        "  #XX = XX.to_numpy()\n",
        "  YY = YY.to_numpy()\n",
        "  YY=np.array(YY).T\n",
        "  YY=YY[0]\n",
        "  data_new =  SelectKBest(lambda X, Y: tuple(map(tuple,np.array(list(map(lambda x:mic(x, Y), X.T))).T)), k).fit_transform(XX,YY)\n",
        "  #print(np.mean(data_new,axis=0))\n",
        "  data_new = pd.DataFrame(data_new)\n",
        "  columsname=[]\n",
        "  for i in range(data_new.shape[1]):\n",
        "    columsname.append(\"feature\"+' '+str(i))\n",
        "  data_new.columns=columsname\n",
        "  data_new=pd.concat( [data_new,pd.DataFrame(olddata['ClassLabel'])], axis=1 ,ignore_index=True)\n",
        "  data_new.columns = [*data_new.columns[:-1], 'ClassLabel']\n",
        "  return data_new"
      ],
      "execution_count": null,
      "outputs": []
    },
    {
      "cell_type": "code",
      "metadata": {
        "id": "XbqIgMDQmyaP"
      },
      "source": [
        "def add_feature(olddata,order):\n",
        "  if order==1:\n",
        "    return olddata\n",
        "  else:\n",
        "      Y = pd.DataFrame(olddata['ClassLabel'])\n",
        "      fea_data=olddata.drop(columns=olddata.columns[olddata.shape[1]-1])\n",
        "      newdata=fea_data\n",
        "      for i in range(2,order+1):\n",
        "        columsname=[]\n",
        "        for ii in range(olddata.shape[1]-1):\n",
        "          columsname.append(str(olddata.columns[ii])+' '+str(i))\n",
        "        newdata0=fea_data**(i*1)\n",
        "        newdata0.columns=columsname\n",
        "        newdata=newdata.join(newdata0)\n",
        "      newdata=newdata.join(Y)\n",
        "      return newdata\n",
        "      "
      ],
      "execution_count": null,
      "outputs": []
    },
    {
      "cell_type": "code",
      "metadata": {
        "id": "JQMe2VWnrfo6",
        "outputId": "ba591ff3-5464-4d41-8605-a71cac7148f9",
        "colab": {
          "base_uri": "https://localhost:8080/",
          "height": 1000
        }
      },
      "source": [
        "#in this box is the best model we found, and run 10 times to check its stability\n",
        "mean_acc_list=[]\n",
        "mean_acc_train_list=[]\n",
        "x=[]\n",
        "for i in range(1,11):\n",
        "  x.append(i)\n",
        "  olddata = pd.read_csv('bankrupcy.csv',header=0) \n",
        "  olddata=olddata.sample(frac=1.0)#shuffle all the data\n",
        "  olddata.index=range(len(olddata))\n",
        "  olddata=MICselection(olddata,3)\n",
        "  cos=corss_validation(olddata,10,bank_model,Accu_eval_)\n",
        "  mean_acc=cos.validate()\n",
        "  mean_acc_list.append(mean_acc)\n",
        "  mean_acc_train=cos.train_validate()\n",
        "  mean_acc_train_list.append(mean_acc_train)\n",
        "plt.plot(x,mean_acc_train_list)\n",
        "plt.plot(x,mean_acc_list)\n",
        "plt.title('bankrupcy best model run 10 time')\n",
        "plt.legend([\"train set\",\"validation set\"])\n",
        "plt.xlabel('run time')\n",
        "plt.ylabel('accuracy')\n",
        "print(mean_acc_train_list)\n",
        "print(mean_acc_list)\n",
        "plt.show()"
      ],
      "execution_count": null,
      "outputs": [
        {
          "output_type": "stream",
          "text": [
            "/usr/local/lib/python3.6/dist-packages/numpy/core/fromnumeric.py:3335: RuntimeWarning: Mean of empty slice.\n",
            "  out=out, **kwargs)\n",
            "/usr/local/lib/python3.6/dist-packages/numpy/core/_methods.py:161: RuntimeWarning: invalid value encountered in double_scalars\n",
            "  ret = ret.dtype.type(ret / rcount)\n",
            "/usr/local/lib/python3.6/dist-packages/numpy/core/fromnumeric.py:3335: RuntimeWarning: Mean of empty slice.\n",
            "  out=out, **kwargs)\n",
            "/usr/local/lib/python3.6/dist-packages/numpy/core/_methods.py:161: RuntimeWarning: invalid value encountered in double_scalars\n",
            "  ret = ret.dtype.type(ret / rcount)\n",
            "/usr/local/lib/python3.6/dist-packages/numpy/core/fromnumeric.py:3335: RuntimeWarning: Mean of empty slice.\n",
            "  out=out, **kwargs)\n",
            "/usr/local/lib/python3.6/dist-packages/numpy/core/_methods.py:161: RuntimeWarning: invalid value encountered in double_scalars\n",
            "  ret = ret.dtype.type(ret / rcount)\n",
            "/usr/local/lib/python3.6/dist-packages/numpy/core/fromnumeric.py:3335: RuntimeWarning: Mean of empty slice.\n",
            "  out=out, **kwargs)\n",
            "/usr/local/lib/python3.6/dist-packages/numpy/core/_methods.py:161: RuntimeWarning: invalid value encountered in double_scalars\n",
            "  ret = ret.dtype.type(ret / rcount)\n",
            "/usr/local/lib/python3.6/dist-packages/numpy/core/fromnumeric.py:3335: RuntimeWarning: Mean of empty slice.\n",
            "  out=out, **kwargs)\n",
            "/usr/local/lib/python3.6/dist-packages/numpy/core/_methods.py:161: RuntimeWarning: invalid value encountered in double_scalars\n",
            "  ret = ret.dtype.type(ret / rcount)\n",
            "/usr/local/lib/python3.6/dist-packages/numpy/core/fromnumeric.py:3335: RuntimeWarning: Mean of empty slice.\n",
            "  out=out, **kwargs)\n",
            "/usr/local/lib/python3.6/dist-packages/numpy/core/_methods.py:161: RuntimeWarning: invalid value encountered in double_scalars\n",
            "  ret = ret.dtype.type(ret / rcount)\n",
            "/usr/local/lib/python3.6/dist-packages/numpy/core/fromnumeric.py:3335: RuntimeWarning: Mean of empty slice.\n",
            "  out=out, **kwargs)\n",
            "/usr/local/lib/python3.6/dist-packages/numpy/core/_methods.py:161: RuntimeWarning: invalid value encountered in double_scalars\n",
            "  ret = ret.dtype.type(ret / rcount)\n",
            "/usr/local/lib/python3.6/dist-packages/numpy/core/fromnumeric.py:3335: RuntimeWarning: Mean of empty slice.\n",
            "  out=out, **kwargs)\n",
            "/usr/local/lib/python3.6/dist-packages/numpy/core/_methods.py:161: RuntimeWarning: invalid value encountered in double_scalars\n",
            "  ret = ret.dtype.type(ret / rcount)\n",
            "/usr/local/lib/python3.6/dist-packages/numpy/core/fromnumeric.py:3335: RuntimeWarning: Mean of empty slice.\n",
            "  out=out, **kwargs)\n",
            "/usr/local/lib/python3.6/dist-packages/numpy/core/_methods.py:161: RuntimeWarning: invalid value encountered in double_scalars\n",
            "  ret = ret.dtype.type(ret / rcount)\n",
            "/usr/local/lib/python3.6/dist-packages/numpy/core/fromnumeric.py:3335: RuntimeWarning: Mean of empty slice.\n",
            "  out=out, **kwargs)\n",
            "/usr/local/lib/python3.6/dist-packages/numpy/core/_methods.py:161: RuntimeWarning: invalid value encountered in double_scalars\n",
            "  ret = ret.dtype.type(ret / rcount)\n"
          ],
          "name": "stderr"
        },
        {
          "output_type": "stream",
          "text": [
            "[70.7107843137255, 70.83333333333334, 70.80882352941175, 70.73529411764707, 70.83333333333334, 70.95588235294119, 70.83333333333334, 70.56372549019609, 70.6127450980392, 70.68627450980394]\n",
            "[71.11111111111111, 70.22222222222223, 70.44444444444444, 71.11111111111111, 69.77777777777779, 71.77777777777779, 70.88888888888889, 70.44444444444444, 71.33333333333333, 70.0]\n"
          ],
          "name": "stdout"
        },
        {
          "output_type": "display_data",
          "data": {
            "image/png": "[encoded data removed]",
            "text/plain": [
              "<Figure size 432x288 with 1 Axes>"
            ]
          },
          "metadata": {
            "tags": []
          }
        }
      ]
    },
    {
      "cell_type": "code",
      "metadata": {
        "id": "7xiAJ11Fm1VE",
        "outputId": "f3052065-1d92-4b0c-b013-4b24959828d1",
        "colab": {
          "base_uri": "https://localhost:8080/",
          "height": 1000
        }
      },
      "source": [
        "#in following 3 code box, is the process of find the best model \n",
        "#this part is to compare model with different the subsets of features, which was select by feature selection based on the Maximal Information Coefficient (MIC).\n",
        "mean_acc_list=[]\n",
        "mean_acc_train_list=[]\n",
        "x=[]\n",
        "for i in range(1,65):\n",
        "    x.append(i)\n",
        "    olddata = pd.read_csv('bankrupcy.csv',header=0) \n",
        "    olddata=olddata.sample(frac=1.0)#shuffle all the data\n",
        "    olddata.index=range(len(olddata))\n",
        "    olddata=MICselection(olddata,i)\n",
        "    cos=corss_validation(olddata,10,bank_model,Accu_eval_)\n",
        "    mean_acc=cos.validate()\n",
        "    mean_acc_list.append(mean_acc)\n",
        "    mean_acc_train=cos.train_validate()\n",
        "    mean_acc_train_list.append(mean_acc_train)\n",
        "plt.plot(x,mean_acc_train_list)\n",
        "plt.plot(x,mean_acc_list)\n",
        "plt.title('bankrupcy MIC feature selection')\n",
        "plt.legend([\"train set\",\"validation set\"])\n",
        "plt.xlabel('number of feature')\n",
        "plt.ylabel('accuracy')\n",
        "print(mean_acc_train_list)\n",
        "print(mean_acc_list)\n",
        "plt.show()"
      ],
      "execution_count": null,
      "outputs": [
        {
          "output_type": "stream",
          "text": [
            "/usr/local/lib/python3.6/dist-packages/numpy/core/fromnumeric.py:3335: RuntimeWarning: Mean of empty slice.\n",
            "  out=out, **kwargs)\n",
            "/usr/local/lib/python3.6/dist-packages/numpy/core/_methods.py:161: RuntimeWarning: invalid value encountered in double_scalars\n",
            "  ret = ret.dtype.type(ret / rcount)\n",
            "/usr/local/lib/python3.6/dist-packages/numpy/core/fromnumeric.py:3335: RuntimeWarning: Mean of empty slice.\n",
            "  out=out, **kwargs)\n",
            "/usr/local/lib/python3.6/dist-packages/numpy/core/_methods.py:161: RuntimeWarning: invalid value encountered in double_scalars\n",
            "  ret = ret.dtype.type(ret / rcount)\n",
            "/usr/local/lib/python3.6/dist-packages/numpy/core/fromnumeric.py:3335: RuntimeWarning: Mean of empty slice.\n",
            "  out=out, **kwargs)\n",
            "/usr/local/lib/python3.6/dist-packages/numpy/core/_methods.py:161: RuntimeWarning: invalid value encountered in double_scalars\n",
            "  ret = ret.dtype.type(ret / rcount)\n",
            "/usr/local/lib/python3.6/dist-packages/numpy/core/fromnumeric.py:3335: RuntimeWarning: Mean of empty slice.\n",
            "  out=out, **kwargs)\n",
            "/usr/local/lib/python3.6/dist-packages/numpy/core/_methods.py:161: RuntimeWarning: invalid value encountered in double_scalars\n",
            "  ret = ret.dtype.type(ret / rcount)\n",
            "/usr/local/lib/python3.6/dist-packages/numpy/core/fromnumeric.py:3335: RuntimeWarning: Mean of empty slice.\n",
            "  out=out, **kwargs)\n",
            "/usr/local/lib/python3.6/dist-packages/numpy/core/_methods.py:161: RuntimeWarning: invalid value encountered in double_scalars\n",
            "  ret = ret.dtype.type(ret / rcount)\n",
            "/usr/local/lib/python3.6/dist-packages/numpy/core/fromnumeric.py:3335: RuntimeWarning: Mean of empty slice.\n",
            "  out=out, **kwargs)\n",
            "/usr/local/lib/python3.6/dist-packages/numpy/core/_methods.py:161: RuntimeWarning: invalid value encountered in double_scalars\n",
            "  ret = ret.dtype.type(ret / rcount)\n",
            "/usr/local/lib/python3.6/dist-packages/numpy/core/fromnumeric.py:3335: RuntimeWarning: Mean of empty slice.\n",
            "  out=out, **kwargs)\n",
            "/usr/local/lib/python3.6/dist-packages/numpy/core/_methods.py:161: RuntimeWarning: invalid value encountered in double_scalars\n",
            "  ret = ret.dtype.type(ret / rcount)\n",
            "/usr/local/lib/python3.6/dist-packages/numpy/core/fromnumeric.py:3335: RuntimeWarning: Mean of empty slice.\n",
            "  out=out, **kwargs)\n",
            "/usr/local/lib/python3.6/dist-packages/numpy/core/_methods.py:161: RuntimeWarning: invalid value encountered in double_scalars\n",
            "  ret = ret.dtype.type(ret / rcount)\n",
            "/usr/local/lib/python3.6/dist-packages/numpy/core/fromnumeric.py:3335: RuntimeWarning: Mean of empty slice.\n",
            "  out=out, **kwargs)\n",
            "/usr/local/lib/python3.6/dist-packages/numpy/core/_methods.py:161: RuntimeWarning: invalid value encountered in double_scalars\n",
            "  ret = ret.dtype.type(ret / rcount)\n",
            "/usr/local/lib/python3.6/dist-packages/numpy/core/fromnumeric.py:3335: RuntimeWarning: Mean of empty slice.\n",
            "  out=out, **kwargs)\n",
            "/usr/local/lib/python3.6/dist-packages/numpy/core/_methods.py:161: RuntimeWarning: invalid value encountered in double_scalars\n",
            "  ret = ret.dtype.type(ret / rcount)\n",
            "/usr/local/lib/python3.6/dist-packages/numpy/core/fromnumeric.py:3335: RuntimeWarning: Mean of empty slice.\n",
            "  out=out, **kwargs)\n",
            "/usr/local/lib/python3.6/dist-packages/numpy/core/_methods.py:161: RuntimeWarning: invalid value encountered in double_scalars\n",
            "  ret = ret.dtype.type(ret / rcount)\n",
            "/usr/local/lib/python3.6/dist-packages/numpy/core/fromnumeric.py:3335: RuntimeWarning: Mean of empty slice.\n",
            "  out=out, **kwargs)\n",
            "/usr/local/lib/python3.6/dist-packages/numpy/core/_methods.py:161: RuntimeWarning: invalid value encountered in double_scalars\n",
            "  ret = ret.dtype.type(ret / rcount)\n",
            "/usr/local/lib/python3.6/dist-packages/numpy/core/fromnumeric.py:3335: RuntimeWarning: Mean of empty slice.\n",
            "  out=out, **kwargs)\n",
            "/usr/local/lib/python3.6/dist-packages/numpy/core/_methods.py:161: RuntimeWarning: invalid value encountered in double_scalars\n",
            "  ret = ret.dtype.type(ret / rcount)\n",
            "/usr/local/lib/python3.6/dist-packages/numpy/core/fromnumeric.py:3335: RuntimeWarning: Mean of empty slice.\n",
            "  out=out, **kwargs)\n",
            "/usr/local/lib/python3.6/dist-packages/numpy/core/_methods.py:161: RuntimeWarning: invalid value encountered in double_scalars\n",
            "  ret = ret.dtype.type(ret / rcount)\n",
            "/usr/local/lib/python3.6/dist-packages/numpy/core/fromnumeric.py:3335: RuntimeWarning: Mean of empty slice.\n",
            "  out=out, **kwargs)\n",
            "/usr/local/lib/python3.6/dist-packages/numpy/core/_methods.py:161: RuntimeWarning: invalid value encountered in double_scalars\n",
            "  ret = ret.dtype.type(ret / rcount)\n",
            "/usr/local/lib/python3.6/dist-packages/numpy/core/fromnumeric.py:3335: RuntimeWarning: Mean of empty slice.\n",
            "  out=out, **kwargs)\n",
            "/usr/local/lib/python3.6/dist-packages/numpy/core/_methods.py:161: RuntimeWarning: invalid value encountered in double_scalars\n",
            "  ret = ret.dtype.type(ret / rcount)\n",
            "/usr/local/lib/python3.6/dist-packages/numpy/core/fromnumeric.py:3335: RuntimeWarning: Mean of empty slice.\n",
            "  out=out, **kwargs)\n",
            "/usr/local/lib/python3.6/dist-packages/numpy/core/_methods.py:161: RuntimeWarning: invalid value encountered in double_scalars\n",
            "  ret = ret.dtype.type(ret / rcount)\n",
            "/usr/local/lib/python3.6/dist-packages/numpy/core/fromnumeric.py:3335: RuntimeWarning: Mean of empty slice.\n",
            "  out=out, **kwargs)\n",
            "/usr/local/lib/python3.6/dist-packages/numpy/core/_methods.py:161: RuntimeWarning: invalid value encountered in double_scalars\n",
            "  ret = ret.dtype.type(ret / rcount)\n",
            "/usr/local/lib/python3.6/dist-packages/numpy/core/fromnumeric.py:3335: RuntimeWarning: Mean of empty slice.\n",
            "  out=out, **kwargs)\n",
            "/usr/local/lib/python3.6/dist-packages/numpy/core/_methods.py:161: RuntimeWarning: invalid value encountered in double_scalars\n",
            "  ret = ret.dtype.type(ret / rcount)\n",
            "/usr/local/lib/python3.6/dist-packages/numpy/core/fromnumeric.py:3335: RuntimeWarning: Mean of empty slice.\n",
            "  out=out, **kwargs)\n",
            "/usr/local/lib/python3.6/dist-packages/numpy/core/_methods.py:161: RuntimeWarning: invalid value encountered in double_scalars\n",
            "  ret = ret.dtype.type(ret / rcount)\n",
            "/usr/local/lib/python3.6/dist-packages/numpy/core/fromnumeric.py:3335: RuntimeWarning: Mean of empty slice.\n",
            "  out=out, **kwargs)\n",
            "/usr/local/lib/python3.6/dist-packages/numpy/core/_methods.py:161: RuntimeWarning: invalid value encountered in double_scalars\n",
            "  ret = ret.dtype.type(ret / rcount)\n",
            "/usr/local/lib/python3.6/dist-packages/numpy/core/fromnumeric.py:3335: RuntimeWarning: Mean of empty slice.\n",
            "  out=out, **kwargs)\n",
            "/usr/local/lib/python3.6/dist-packages/numpy/core/_methods.py:161: RuntimeWarning: invalid value encountered in double_scalars\n",
            "  ret = ret.dtype.type(ret / rcount)\n",
            "/usr/local/lib/python3.6/dist-packages/numpy/core/fromnumeric.py:3335: RuntimeWarning: Mean of empty slice.\n",
            "  out=out, **kwargs)\n",
            "/usr/local/lib/python3.6/dist-packages/numpy/core/_methods.py:161: RuntimeWarning: invalid value encountered in double_scalars\n",
            "  ret = ret.dtype.type(ret / rcount)\n",
            "/usr/local/lib/python3.6/dist-packages/numpy/core/fromnumeric.py:3335: RuntimeWarning: Mean of empty slice.\n",
            "  out=out, **kwargs)\n",
            "/usr/local/lib/python3.6/dist-packages/numpy/core/_methods.py:161: RuntimeWarning: invalid value encountered in double_scalars\n",
            "  ret = ret.dtype.type(ret / rcount)\n",
            "/usr/local/lib/python3.6/dist-packages/numpy/core/fromnumeric.py:3335: RuntimeWarning: Mean of empty slice.\n",
            "  out=out, **kwargs)\n",
            "/usr/local/lib/python3.6/dist-packages/numpy/core/_methods.py:161: RuntimeWarning: invalid value encountered in double_scalars\n",
            "  ret = ret.dtype.type(ret / rcount)\n",
            "/usr/local/lib/python3.6/dist-packages/numpy/core/fromnumeric.py:3335: RuntimeWarning: Mean of empty slice.\n",
            "  out=out, **kwargs)\n",
            "/usr/local/lib/python3.6/dist-packages/numpy/core/_methods.py:161: RuntimeWarning: invalid value encountered in double_scalars\n",
            "  ret = ret.dtype.type(ret / rcount)\n",
            "/usr/local/lib/python3.6/dist-packages/numpy/core/fromnumeric.py:3335: RuntimeWarning: Mean of empty slice.\n",
            "  out=out, **kwargs)\n",
            "/usr/local/lib/python3.6/dist-packages/numpy/core/_methods.py:161: RuntimeWarning: invalid value encountered in double_scalars\n",
            "  ret = ret.dtype.type(ret / rcount)\n",
            "/usr/local/lib/python3.6/dist-packages/numpy/core/fromnumeric.py:3335: RuntimeWarning: Mean of empty slice.\n",
            "  out=out, **kwargs)\n",
            "/usr/local/lib/python3.6/dist-packages/numpy/core/_methods.py:161: RuntimeWarning: invalid value encountered in double_scalars\n",
            "  ret = ret.dtype.type(ret / rcount)\n",
            "/usr/local/lib/python3.6/dist-packages/numpy/core/fromnumeric.py:3335: RuntimeWarning: Mean of empty slice.\n",
            "  out=out, **kwargs)\n",
            "/usr/local/lib/python3.6/dist-packages/numpy/core/_methods.py:161: RuntimeWarning: invalid value encountered in double_scalars\n",
            "  ret = ret.dtype.type(ret / rcount)\n",
            "/usr/local/lib/python3.6/dist-packages/numpy/core/fromnumeric.py:3335: RuntimeWarning: Mean of empty slice.\n",
            "  out=out, **kwargs)\n",
            "/usr/local/lib/python3.6/dist-packages/numpy/core/_methods.py:161: RuntimeWarning: invalid value encountered in double_scalars\n",
            "  ret = ret.dtype.type(ret / rcount)\n",
            "/usr/local/lib/python3.6/dist-packages/numpy/core/fromnumeric.py:3335: RuntimeWarning: Mean of empty slice.\n",
            "  out=out, **kwargs)\n",
            "/usr/local/lib/python3.6/dist-packages/numpy/core/_methods.py:161: RuntimeWarning: invalid value encountered in double_scalars\n",
            "  ret = ret.dtype.type(ret / rcount)\n",
            "/usr/local/lib/python3.6/dist-packages/numpy/core/fromnumeric.py:3335: RuntimeWarning: Mean of empty slice.\n",
            "  out=out, **kwargs)\n",
            "/usr/local/lib/python3.6/dist-packages/numpy/core/_methods.py:161: RuntimeWarning: invalid value encountered in double_scalars\n",
            "  ret = ret.dtype.type(ret / rcount)\n",
            "/usr/local/lib/python3.6/dist-packages/numpy/core/fromnumeric.py:3335: RuntimeWarning: Mean of empty slice.\n",
            "  out=out, **kwargs)\n",
            "/usr/local/lib/python3.6/dist-packages/numpy/core/_methods.py:161: RuntimeWarning: invalid value encountered in double_scalars\n",
            "  ret = ret.dtype.type(ret / rcount)\n",
            "/usr/local/lib/python3.6/dist-packages/numpy/core/fromnumeric.py:3335: RuntimeWarning: Mean of empty slice.\n",
            "  out=out, **kwargs)\n",
            "/usr/local/lib/python3.6/dist-packages/numpy/core/_methods.py:161: RuntimeWarning: invalid value encountered in double_scalars\n",
            "  ret = ret.dtype.type(ret / rcount)\n",
            "/usr/local/lib/python3.6/dist-packages/numpy/core/fromnumeric.py:3335: RuntimeWarning: Mean of empty slice.\n",
            "  out=out, **kwargs)\n",
            "/usr/local/lib/python3.6/dist-packages/numpy/core/_methods.py:161: RuntimeWarning: invalid value encountered in double_scalars\n",
            "  ret = ret.dtype.type(ret / rcount)\n",
            "/usr/local/lib/python3.6/dist-packages/numpy/core/fromnumeric.py:3335: RuntimeWarning: Mean of empty slice.\n",
            "  out=out, **kwargs)\n",
            "/usr/local/lib/python3.6/dist-packages/numpy/core/_methods.py:161: RuntimeWarning: invalid value encountered in double_scalars\n",
            "  ret = ret.dtype.type(ret / rcount)\n",
            "/usr/local/lib/python3.6/dist-packages/numpy/core/fromnumeric.py:3335: RuntimeWarning: Mean of empty slice.\n",
            "  out=out, **kwargs)\n",
            "/usr/local/lib/python3.6/dist-packages/numpy/core/_methods.py:161: RuntimeWarning: invalid value encountered in double_scalars\n",
            "  ret = ret.dtype.type(ret / rcount)\n",
            "/usr/local/lib/python3.6/dist-packages/numpy/core/fromnumeric.py:3335: RuntimeWarning: Mean of empty slice.\n",
            "  out=out, **kwargs)\n",
            "/usr/local/lib/python3.6/dist-packages/numpy/core/_methods.py:161: RuntimeWarning: invalid value encountered in double_scalars\n",
            "  ret = ret.dtype.type(ret / rcount)\n",
            "/usr/local/lib/python3.6/dist-packages/numpy/core/fromnumeric.py:3335: RuntimeWarning: Mean of empty slice.\n",
            "  out=out, **kwargs)\n",
            "/usr/local/lib/python3.6/dist-packages/numpy/core/_methods.py:161: RuntimeWarning: invalid value encountered in double_scalars\n",
            "  ret = ret.dtype.type(ret / rcount)\n",
            "/usr/local/lib/python3.6/dist-packages/numpy/core/fromnumeric.py:3335: RuntimeWarning: Mean of empty slice.\n",
            "  out=out, **kwargs)\n",
            "/usr/local/lib/python3.6/dist-packages/numpy/core/_methods.py:161: RuntimeWarning: invalid value encountered in double_scalars\n",
            "  ret = ret.dtype.type(ret / rcount)\n",
            "/usr/local/lib/python3.6/dist-packages/numpy/core/fromnumeric.py:3335: RuntimeWarning: Mean of empty slice.\n",
            "  out=out, **kwargs)\n",
            "/usr/local/lib/python3.6/dist-packages/numpy/core/_methods.py:161: RuntimeWarning: invalid value encountered in double_scalars\n",
            "  ret = ret.dtype.type(ret / rcount)\n",
            "/usr/local/lib/python3.6/dist-packages/numpy/core/fromnumeric.py:3335: RuntimeWarning: Mean of empty slice.\n",
            "  out=out, **kwargs)\n",
            "/usr/local/lib/python3.6/dist-packages/numpy/core/_methods.py:161: RuntimeWarning: invalid value encountered in double_scalars\n",
            "  ret = ret.dtype.type(ret / rcount)\n",
            "/usr/local/lib/python3.6/dist-packages/numpy/core/fromnumeric.py:3335: RuntimeWarning: Mean of empty slice.\n",
            "  out=out, **kwargs)\n",
            "/usr/local/lib/python3.6/dist-packages/numpy/core/_methods.py:161: RuntimeWarning: invalid value encountered in double_scalars\n",
            "  ret = ret.dtype.type(ret / rcount)\n",
            "/usr/local/lib/python3.6/dist-packages/numpy/core/fromnumeric.py:3335: RuntimeWarning: Mean of empty slice.\n",
            "  out=out, **kwargs)\n",
            "/usr/local/lib/python3.6/dist-packages/numpy/core/_methods.py:161: RuntimeWarning: invalid value encountered in double_scalars\n",
            "  ret = ret.dtype.type(ret / rcount)\n",
            "/usr/local/lib/python3.6/dist-packages/numpy/core/fromnumeric.py:3335: RuntimeWarning: Mean of empty slice.\n",
            "  out=out, **kwargs)\n",
            "/usr/local/lib/python3.6/dist-packages/numpy/core/_methods.py:161: RuntimeWarning: invalid value encountered in double_scalars\n",
            "  ret = ret.dtype.type(ret / rcount)\n",
            "/usr/local/lib/python3.6/dist-packages/numpy/core/fromnumeric.py:3335: RuntimeWarning: Mean of empty slice.\n",
            "  out=out, **kwargs)\n",
            "/usr/local/lib/python3.6/dist-packages/numpy/core/_methods.py:161: RuntimeWarning: invalid value encountered in double_scalars\n",
            "  ret = ret.dtype.type(ret / rcount)\n",
            "/usr/local/lib/python3.6/dist-packages/numpy/core/fromnumeric.py:3335: RuntimeWarning: Mean of empty slice.\n",
            "  out=out, **kwargs)\n",
            "/usr/local/lib/python3.6/dist-packages/numpy/core/_methods.py:161: RuntimeWarning: invalid value encountered in double_scalars\n",
            "  ret = ret.dtype.type(ret / rcount)\n",
            "/usr/local/lib/python3.6/dist-packages/numpy/core/fromnumeric.py:3335: RuntimeWarning: Mean of empty slice.\n",
            "  out=out, **kwargs)\n",
            "/usr/local/lib/python3.6/dist-packages/numpy/core/_methods.py:161: RuntimeWarning: invalid value encountered in double_scalars\n",
            "  ret = ret.dtype.type(ret / rcount)\n",
            "/usr/local/lib/python3.6/dist-packages/numpy/core/fromnumeric.py:3335: RuntimeWarning: Mean of empty slice.\n",
            "  out=out, **kwargs)\n",
            "/usr/local/lib/python3.6/dist-packages/numpy/core/_methods.py:161: RuntimeWarning: invalid value encountered in double_scalars\n",
            "  ret = ret.dtype.type(ret / rcount)\n",
            "/usr/local/lib/python3.6/dist-packages/numpy/core/fromnumeric.py:3335: RuntimeWarning: Mean of empty slice.\n",
            "  out=out, **kwargs)\n",
            "/usr/local/lib/python3.6/dist-packages/numpy/core/_methods.py:161: RuntimeWarning: invalid value encountered in double_scalars\n",
            "  ret = ret.dtype.type(ret / rcount)\n",
            "/usr/local/lib/python3.6/dist-packages/numpy/core/fromnumeric.py:3335: RuntimeWarning: Mean of empty slice.\n",
            "  out=out, **kwargs)\n",
            "/usr/local/lib/python3.6/dist-packages/numpy/core/_methods.py:161: RuntimeWarning: invalid value encountered in double_scalars\n",
            "  ret = ret.dtype.type(ret / rcount)\n",
            "/usr/local/lib/python3.6/dist-packages/numpy/core/fromnumeric.py:3335: RuntimeWarning: Mean of empty slice.\n",
            "  out=out, **kwargs)\n",
            "/usr/local/lib/python3.6/dist-packages/numpy/core/_methods.py:161: RuntimeWarning: invalid value encountered in double_scalars\n",
            "  ret = ret.dtype.type(ret / rcount)\n",
            "/usr/local/lib/python3.6/dist-packages/numpy/core/fromnumeric.py:3335: RuntimeWarning: Mean of empty slice.\n",
            "  out=out, **kwargs)\n",
            "/usr/local/lib/python3.6/dist-packages/numpy/core/_methods.py:161: RuntimeWarning: invalid value encountered in double_scalars\n",
            "  ret = ret.dtype.type(ret / rcount)\n",
            "/usr/local/lib/python3.6/dist-packages/numpy/core/fromnumeric.py:3335: RuntimeWarning: Mean of empty slice.\n",
            "  out=out, **kwargs)\n",
            "/usr/local/lib/python3.6/dist-packages/numpy/core/_methods.py:161: RuntimeWarning: invalid value encountered in double_scalars\n",
            "  ret = ret.dtype.type(ret / rcount)\n",
            "/usr/local/lib/python3.6/dist-packages/numpy/core/fromnumeric.py:3335: RuntimeWarning: Mean of empty slice.\n",
            "  out=out, **kwargs)\n",
            "/usr/local/lib/python3.6/dist-packages/numpy/core/_methods.py:161: RuntimeWarning: invalid value encountered in double_scalars\n",
            "  ret = ret.dtype.type(ret / rcount)\n",
            "/usr/local/lib/python3.6/dist-packages/numpy/core/fromnumeric.py:3335: RuntimeWarning: Mean of empty slice.\n",
            "  out=out, **kwargs)\n",
            "/usr/local/lib/python3.6/dist-packages/numpy/core/_methods.py:161: RuntimeWarning: invalid value encountered in double_scalars\n",
            "  ret = ret.dtype.type(ret / rcount)\n",
            "/usr/local/lib/python3.6/dist-packages/numpy/core/fromnumeric.py:3335: RuntimeWarning: Mean of empty slice.\n",
            "  out=out, **kwargs)\n",
            "/usr/local/lib/python3.6/dist-packages/numpy/core/_methods.py:161: RuntimeWarning: invalid value encountered in double_scalars\n",
            "  ret = ret.dtype.type(ret / rcount)\n",
            "/usr/local/lib/python3.6/dist-packages/numpy/core/fromnumeric.py:3335: RuntimeWarning: Mean of empty slice.\n",
            "  out=out, **kwargs)\n",
            "/usr/local/lib/python3.6/dist-packages/numpy/core/_methods.py:161: RuntimeWarning: invalid value encountered in double_scalars\n",
            "  ret = ret.dtype.type(ret / rcount)\n",
            "/usr/local/lib/python3.6/dist-packages/numpy/core/fromnumeric.py:3335: RuntimeWarning: Mean of empty slice.\n",
            "  out=out, **kwargs)\n",
            "/usr/local/lib/python3.6/dist-packages/numpy/core/_methods.py:161: RuntimeWarning: invalid value encountered in double_scalars\n",
            "  ret = ret.dtype.type(ret / rcount)\n",
            "/usr/local/lib/python3.6/dist-packages/numpy/core/fromnumeric.py:3335: RuntimeWarning: Mean of empty slice.\n",
            "  out=out, **kwargs)\n",
            "/usr/local/lib/python3.6/dist-packages/numpy/core/_methods.py:161: RuntimeWarning: invalid value encountered in double_scalars\n",
            "  ret = ret.dtype.type(ret / rcount)\n",
            "/usr/local/lib/python3.6/dist-packages/numpy/core/fromnumeric.py:3335: RuntimeWarning: Mean of empty slice.\n",
            "  out=out, **kwargs)\n",
            "/usr/local/lib/python3.6/dist-packages/numpy/core/_methods.py:161: RuntimeWarning: invalid value encountered in double_scalars\n",
            "  ret = ret.dtype.type(ret / rcount)\n",
            "/usr/local/lib/python3.6/dist-packages/numpy/core/fromnumeric.py:3335: RuntimeWarning: Mean of empty slice.\n",
            "  out=out, **kwargs)\n",
            "/usr/local/lib/python3.6/dist-packages/numpy/core/_methods.py:161: RuntimeWarning: invalid value encountered in double_scalars\n",
            "  ret = ret.dtype.type(ret / rcount)\n",
            "/usr/local/lib/python3.6/dist-packages/numpy/core/fromnumeric.py:3335: RuntimeWarning: Mean of empty slice.\n",
            "  out=out, **kwargs)\n",
            "/usr/local/lib/python3.6/dist-packages/numpy/core/_methods.py:161: RuntimeWarning: invalid value encountered in double_scalars\n",
            "  ret = ret.dtype.type(ret / rcount)\n",
            "/usr/local/lib/python3.6/dist-packages/numpy/core/fromnumeric.py:3335: RuntimeWarning: Mean of empty slice.\n",
            "  out=out, **kwargs)\n",
            "/usr/local/lib/python3.6/dist-packages/numpy/core/_methods.py:161: RuntimeWarning: invalid value encountered in double_scalars\n",
            "  ret = ret.dtype.type(ret / rcount)\n"
          ],
          "name": "stderr"
        },
        {
          "output_type": "stream",
          "text": [
            "[54.607843137254896, 69.85294117647058, 70.56372549019609, 67.62254901960785, 67.67156862745098, 68.30882352941178, 66.15196078431373, 65.0, 64.24019607843138, 65.36764705882351, 65.88235294117648, 65.73529411764706, 64.50980392156862, 62.64705882352941, 63.48039215686274, 66.12745098039217, 67.23039215686273, 65.17156862745098, 63.18627450980391, 61.07843137254902, 64.5343137254902, 64.09313725490196, 64.09313725490196, 67.8186274509804, 66.98529411764704, 67.1813725490196, 67.45098039215686, 66.64215686274508, 67.15686274509804, 68.45588235294117, 67.00980392156863, 67.81862745098037, 67.40196078431373, 68.11274509803921, 66.8627450980392, 67.30392156862744, 66.8627450980392, 66.54411764705881, 66.07843137254902, 66.93627450980392, 67.05882352941175, 66.96078431372548, 66.66666666666666, 66.69117647058823, 67.42647058823529, 66.69117647058825, 66.59313725490196, 68.23529411764706, 66.61764705882354, 66.7892156862745, 66.81372549019609, 67.9656862745098, 66.86274509803921, 66.98529411764706, 68.4313725490196, 65.83333333333334, 67.42647058823529, 67.40196078431373, 67.35294117647058, 67.13235294117646, 67.23039215686273, 67.54901960784314, 68.97058823529412, 68.40686274509804]\n",
            "[49.55555555555556, 68.44444444444444, 71.11111111111111, 65.99999999999999, 67.55555555555556, 66.44444444444444, 64.0, 63.11111111111111, 64.44444444444444, 63.777777777777786, 65.11111111111111, 63.11111111111111, 61.777777777777786, 62.44444444444444, 59.999999999999986, 66.88888888888889, 65.33333333333333, 62.0, 60.44444444444444, 64.0, 62.44444444444444, 65.55555555555556, 64.22222222222221, 65.33333333333334, 67.33333333333334, 67.77777777777779, 66.44444444444443, 66.22222222222221, 65.77777777777779, 66.88888888888889, 66.44444444444444, 67.77777777777779, 67.55555555555556, 66.22222222222223, 65.11111111111111, 66.22222222222223, 66.44444444444446, 65.33333333333333, 67.11111111111111, 65.33333333333334, 65.77777777777777, 64.0, 65.11111111111111, 65.99999999999999, 64.44444444444443, 64.44444444444444, 65.33333333333334, 66.0, 66.0, 67.11111111111111, 64.66666666666666, 65.77777777777776, 64.88888888888889, 64.44444444444444, 65.33333333333334, 64.8888888888889, 66.66666666666667, 66.66666666666666, 64.66666666666666, 64.0, 67.77777777777779, 66.22222222222221, 65.11111111111111, 68.66666666666667]\n"
          ],
          "name": "stdout"
        },
        {
          "output_type": "display_data",
          "data": {
            "image/png": "[encoded data removed]",
            "text/plain": [
              "<Figure size 432x288 with 1 Axes>"
            ]
          },
          "metadata": {
            "tags": []
          }
        }
      ]
    },
    {
      "cell_type": "code",
      "metadata": {
        "id": "2Y0ZIxvdo6le",
        "outputId": "dff362ad-1bc4-43e5-b0be-57d019b20c4c",
        "colab": {
          "base_uri": "https://localhost:8080/",
          "height": 413
        }
      },
      "source": [
        "#this part is to compare model with different the subsets of features, which was select by removing features with low variance.\n",
        "mean_acc_list=[]\n",
        "mean_acc_train_list=[]\n",
        "x=[]\n",
        "for i in range(1,20):\n",
        "    tol_var=0+i*0.02\n",
        "    x.append(tol_var)\n",
        "    olddata = pd.read_csv('bankrupcy.csv',header=0) \n",
        "    olddata=olddata.sample(frac=1.0)#shuffle all the data\n",
        "    olddata.index=range(len(olddata))\n",
        "    olddata=varselect(olddata,tol_var)\n",
        "    cos=corss_validation(olddata,10,bank_model,Accu_eval_)\n",
        "    mean_acc=cos.validate()\n",
        "    mean_acc_list.append(mean_acc)\n",
        "    mean_acc_train=cos.train_validate()\n",
        "    mean_acc_train_list.append(mean_acc_train)\n",
        "\n",
        "plt.plot(x,mean_acc_train_list)\n",
        "plt.plot(x,mean_acc_list)\n",
        "plt.title('bankrupcy variance feature selection')\n",
        "plt.legend([\"train set\",\"validation set\"])\n",
        "plt.xlabel('threshold of variances')\n",
        "plt.ylabel('accuracy')\n",
        "print(mean_acc_train_list)\n",
        "print(mean_acc_list)\n",
        "plt.show()"
      ],
      "execution_count": null,
      "outputs": [
        {
          "output_type": "stream",
          "text": [
            "/usr/local/lib/python3.6/dist-packages/numpy/core/fromnumeric.py:3335: RuntimeWarning: Mean of empty slice.\n",
            "  out=out, **kwargs)\n",
            "/usr/local/lib/python3.6/dist-packages/numpy/core/_methods.py:161: RuntimeWarning: invalid value encountered in double_scalars\n",
            "  ret = ret.dtype.type(ret / rcount)\n"
          ],
          "name": "stderr"
        },
        {
          "output_type": "stream",
          "text": [
            "[67.72058823529412, 68.4313725490196, 67.99019607843137, 69.16666666666667, 67.79411764705883, 69.01960784313727, 67.69607843137256, 68.79901960784312, 68.72549019607844, 68.48039215686273, 68.87254901960783, 67.0343137254902, 66.69117647058823, 68.1127450980392, 68.57843137254902, 68.11274509803921, 68.77450980392157, 67.84313725490196, 67.89215686274511]\n",
            "[64.66666666666666, 65.11111111111111, 63.55555555555556, 63.333333333333336, 65.99999999999999, 67.77777777777779, 66.66666666666666, 67.33333333333333, 66.22222222222223, 66.44444444444443, 65.99999999999999, 65.99999999999999, 67.33333333333333, 67.11111111111111, 65.55555555555556, 67.11111111111111, 63.777777777777786, 61.11111111111112, 64.22222222222221]\n"
          ],
          "name": "stdout"
        },
        {
          "output_type": "display_data",
          "data": {
            "image/png": "[encoded data removed]",
            "text/plain": [
              "<Figure size 432x288 with 1 Axes>"
            ]
          },
          "metadata": {
            "tags": []
          }
        }
      ]
    },
    {
      "cell_type": "code",
      "metadata": {
        "id": "KeLUsPZTpLJ5",
        "outputId": "7fcc99f2-6c07-4ae6-cc50-636d1a4a107f",
        "colab": {
          "base_uri": "https://localhost:8080/",
          "height": 1000
        }
      },
      "source": [
        "#this part is to compare model with different order, which was get by using Polynomial Curve Fitting method after feature selection\n",
        "mean_acc_list=[]\n",
        "mean_acc_train_list=[]\n",
        "x=[]\n",
        "for i in range(1,10):\n",
        "    x.append(i)\n",
        "    olddata = pd.read_csv('bankrupcy.csv',header=0)\n",
        "    olddata=olddata.sample(frac=1.0)#shuffle all the data\n",
        "    olddata.index=range(len(olddata))\n",
        "    olddata=MICselection(olddata,3)\n",
        "    olddata=add_feature(olddata,i)\n",
        "    cos=corss_validation(olddata,10,bank_model,Accu_eval_)\n",
        "    mean_acc=cos.validate()\n",
        "    mean_acc_list.append(mean_acc)\n",
        "    mean_acc_train=cos.train_validate()\n",
        "    mean_acc_train_list.append(mean_acc_train)\n",
        "plt.plot(x,mean_acc_train_list)\n",
        "plt.plot(x,mean_acc_list)\n",
        "plt.title('bankrupcy model with different order')\n",
        "plt.legend([\"train set\",\"validation set\"])\n",
        "plt.xlabel('order of model')\n",
        "plt.ylabel('accuracy')\n",
        "print(mean_acc_train_list)\n",
        "print(mean_acc_list)\n",
        "plt.show()"
      ],
      "execution_count": null,
      "outputs": [
        {
          "output_type": "stream",
          "text": [
            "/usr/local/lib/python3.6/dist-packages/numpy/core/fromnumeric.py:3335: RuntimeWarning: Mean of empty slice.\n",
            "  out=out, **kwargs)\n",
            "/usr/local/lib/python3.6/dist-packages/numpy/core/_methods.py:161: RuntimeWarning: invalid value encountered in double_scalars\n",
            "  ret = ret.dtype.type(ret / rcount)\n",
            "/usr/local/lib/python3.6/dist-packages/numpy/core/fromnumeric.py:3335: RuntimeWarning: Mean of empty slice.\n",
            "  out=out, **kwargs)\n",
            "/usr/local/lib/python3.6/dist-packages/numpy/core/_methods.py:161: RuntimeWarning: invalid value encountered in double_scalars\n",
            "  ret = ret.dtype.type(ret / rcount)\n",
            "/usr/local/lib/python3.6/dist-packages/numpy/core/fromnumeric.py:3335: RuntimeWarning: Mean of empty slice.\n",
            "  out=out, **kwargs)\n",
            "/usr/local/lib/python3.6/dist-packages/numpy/core/_methods.py:161: RuntimeWarning: invalid value encountered in double_scalars\n",
            "  ret = ret.dtype.type(ret / rcount)\n",
            "/usr/local/lib/python3.6/dist-packages/ipykernel_launcher.py:16: RuntimeWarning: overflow encountered in exp\n",
            "  app.launch_new_instance()\n",
            "/usr/local/lib/python3.6/dist-packages/numpy/core/fromnumeric.py:3335: RuntimeWarning: Mean of empty slice.\n",
            "  out=out, **kwargs)\n",
            "/usr/local/lib/python3.6/dist-packages/numpy/core/_methods.py:161: RuntimeWarning: invalid value encountered in double_scalars\n",
            "  ret = ret.dtype.type(ret / rcount)\n",
            "/usr/local/lib/python3.6/dist-packages/ipykernel_launcher.py:16: RuntimeWarning: overflow encountered in exp\n",
            "  app.launch_new_instance()\n",
            "/usr/local/lib/python3.6/dist-packages/numpy/core/fromnumeric.py:3335: RuntimeWarning: Mean of empty slice.\n",
            "  out=out, **kwargs)\n",
            "/usr/local/lib/python3.6/dist-packages/numpy/core/_methods.py:161: RuntimeWarning: invalid value encountered in double_scalars\n",
            "  ret = ret.dtype.type(ret / rcount)\n",
            "/usr/local/lib/python3.6/dist-packages/ipykernel_launcher.py:16: RuntimeWarning: overflow encountered in exp\n",
            "  app.launch_new_instance()\n",
            "/usr/local/lib/python3.6/dist-packages/numpy/core/fromnumeric.py:3335: RuntimeWarning: Mean of empty slice.\n",
            "  out=out, **kwargs)\n",
            "/usr/local/lib/python3.6/dist-packages/numpy/core/_methods.py:161: RuntimeWarning: invalid value encountered in double_scalars\n",
            "  ret = ret.dtype.type(ret / rcount)\n",
            "/usr/local/lib/python3.6/dist-packages/ipykernel_launcher.py:16: RuntimeWarning: overflow encountered in exp\n",
            "  app.launch_new_instance()\n",
            "/usr/local/lib/python3.6/dist-packages/numpy/core/fromnumeric.py:3335: RuntimeWarning: Mean of empty slice.\n",
            "  out=out, **kwargs)\n",
            "/usr/local/lib/python3.6/dist-packages/numpy/core/_methods.py:161: RuntimeWarning: invalid value encountered in double_scalars\n",
            "  ret = ret.dtype.type(ret / rcount)\n",
            "/usr/local/lib/python3.6/dist-packages/ipykernel_launcher.py:16: RuntimeWarning: overflow encountered in exp\n",
            "  app.launch_new_instance()\n",
            "/usr/local/lib/python3.6/dist-packages/numpy/core/fromnumeric.py:3335: RuntimeWarning: Mean of empty slice.\n",
            "  out=out, **kwargs)\n",
            "/usr/local/lib/python3.6/dist-packages/numpy/core/_methods.py:161: RuntimeWarning: invalid value encountered in double_scalars\n",
            "  ret = ret.dtype.type(ret / rcount)\n",
            "/usr/local/lib/python3.6/dist-packages/ipykernel_launcher.py:16: RuntimeWarning: overflow encountered in exp\n",
            "  app.launch_new_instance()\n",
            "/usr/local/lib/python3.6/dist-packages/ipykernel_launcher.py:16: RuntimeWarning: overflow encountered in exp\n",
            "  app.launch_new_instance()\n",
            "/usr/local/lib/python3.6/dist-packages/numpy/core/fromnumeric.py:3335: RuntimeWarning: Mean of empty slice.\n",
            "  out=out, **kwargs)\n",
            "/usr/local/lib/python3.6/dist-packages/numpy/core/_methods.py:161: RuntimeWarning: invalid value encountered in double_scalars\n",
            "  ret = ret.dtype.type(ret / rcount)\n"
          ],
          "name": "stderr"
        },
        {
          "output_type": "stream",
          "text": [
            "[70.58823529411765, 72.00980392156862, 73.48039215686273, 66.47058823529412, 71.49509803921569, 64.33823529411765, 72.30392156862744, 51.25, 66.05392156862746]\n",
            "[70.22222222222223, 72.44444444444444, 70.22222222222221, 67.11111111111111, 71.11111111111111, 64.22222222222223, 73.1111111111111, 51.777777777777786, 65.77777777777779]\n"
          ],
          "name": "stdout"
        },
        {
          "output_type": "display_data",
          "data": {
            "image/png": "[encoded data removed]",
            "text/plain": [
              "<Figure size 432x288 with 1 Axes>"
            ]
          },
          "metadata": {
            "tags": []
          }
        }
      ]
    }
  ]
}